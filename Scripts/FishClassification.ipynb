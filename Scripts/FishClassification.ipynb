{
  "nbformat": 4,
  "nbformat_minor": 0,
  "metadata": {
    "colab": {
      "name": "FishClassification.ipynb",
      "provenance": [],
      "collapsed_sections": []
    },
    "kernelspec": {
      "name": "python3",
      "display_name": "Python 3"
    },
    "language_info": {
      "name": "python"
    },
    "accelerator": "GPU"
  },
  "cells": [
    {
      "cell_type": "code",
      "execution_count": null,
      "metadata": {
        "id": "4km0ReLe1Dtr",
        "colab": {
          "base_uri": "https://localhost:8080/"
        },
        "outputId": "95551279-0348-4a3e-8302-c633ac072e41"
      },
      "outputs": [
        {
          "output_type": "stream",
          "name": "stdout",
          "text": [
            "Mounted at /content/drive\n",
            "/content/drive/MyDrive\n"
          ]
        }
      ],
      "source": [
        "import tensorflow as tf \n",
        "import os\n",
        "from random import shuffle\n",
        "\n",
        "# Loading data and navigating to proper directory\n",
        "from google.colab import drive\n",
        "drive.mount('/content/drive')\n",
        "%cd drive/MyDrive"
      ]
    },
    {
      "cell_type": "markdown",
      "source": [
        "1. Loading Data and Preprocessing"
      ],
      "metadata": {
        "id": "9Bym740s1nlG"
      }
    },
    {
      "cell_type": "code",
      "source": [
        "# 20% Validation Set, 80% Training Set\n",
        "# Input data is balanced across the number of fish classes\n",
        "train_generator = tf.keras.preprocessing.image.ImageDataGenerator(\n",
        "    preprocessing_function=tf.keras.applications.mobilenet_v2.preprocess_input, # Preprocessing function\n",
        "    validation_split=0.2 \n",
        ")\n",
        "\n",
        "test_generator = tf.keras.preprocessing.image.ImageDataGenerator(\n",
        "    preprocessing_function=tf.keras.applications.mobilenet_v2.preprocess_input # Preprocessing function\n",
        ")"
      ],
      "metadata": {
        "id": "0HFteFhy9SoO"
      },
      "execution_count": null,
      "outputs": []
    },
    {
      "cell_type": "code",
      "source": [
        "# Shuffle = True randomly selects images from a random directory/class to meet the streaming batch size and send to the model for training\n",
        "# Instead of flow_from_directory, the following article: https://www.kaggle.com/pavfedotov/fish-classifier-efficientnet-acc-100, uses flow_from_dataframe\n",
        "# which simply contains the list of all image paths in directory and the corresponding class label, we can pivot to this method if it is difficult\n",
        "# to visualize results, but the method below is actually more efficient...\n",
        "train_images = train_generator.flow_from_directory(\n",
        "    directory= 'DataLoadTest',\n",
        "    target_size=(224, 224),\n",
        "    color_mode='rgb',\n",
        "    class_mode='categorical',\n",
        "    batch_size=32, # Will stream 32 images at a time to the model, helps to reduce RAM requirements\n",
        "    shuffle=True,\n",
        "    seed=42,\n",
        "    subset='training'\n",
        ")\n",
        "\n",
        "val_images = train_generator.flow_from_directory(\n",
        "    directory= 'DataLoadTest',\n",
        "    target_size=(224, 224),\n",
        "    color_mode='rgb',\n",
        "    class_mode='categorical',\n",
        "    batch_size=32,\n",
        "    shuffle=True,\n",
        "    seed=42,\n",
        "    subset='validation' # Will only take 20% of the total data as the validation data\n",
        ")\n",
        "\n",
        "# test_images = test_generator.flow_from_directory(\n",
        "#     directory= 'Actual Test Dir',\n",
        "#     target_size=(224, 224),\n",
        "#     color_mode='rgb',\n",
        "#     class_mode='categorical',\n",
        "#     batch_size=32,\n",
        "#     shuffle=True # I wonder why this was originally set to false\n",
        "# )"
      ],
      "metadata": {
        "id": "YCJxA9xS-94l",
        "colab": {
          "base_uri": "https://localhost:8080/",
          "height": 235
        },
        "outputId": "5aa0cea5-32f3-46c3-9310-cb737a003196"
      },
      "execution_count": 1,
      "outputs": [
        {
          "output_type": "error",
          "ename": "NameError",
          "evalue": "ignored",
          "traceback": [
            "\u001b[0;31m---------------------------------------------------------------------------\u001b[0m",
            "\u001b[0;31mNameError\u001b[0m                                 Traceback (most recent call last)",
            "\u001b[0;32m<ipython-input-1-672c7c994ceb>\u001b[0m in \u001b[0;36m<module>\u001b[0;34m()\u001b[0m\n\u001b[1;32m      1\u001b[0m \u001b[0;31m# Shuffle = True randomly selects images from a random directory/class to meet the streaming batch size and send to the model for training\u001b[0m\u001b[0;34m\u001b[0m\u001b[0;34m\u001b[0m\u001b[0;34m\u001b[0m\u001b[0m\n\u001b[0;32m----> 2\u001b[0;31m train_images = train_generator.flow_from_directory(\n\u001b[0m\u001b[1;32m      3\u001b[0m     \u001b[0mdirectory\u001b[0m\u001b[0;34m=\u001b[0m \u001b[0;34m'DataLoadTest'\u001b[0m\u001b[0;34m,\u001b[0m\u001b[0;34m\u001b[0m\u001b[0;34m\u001b[0m\u001b[0m\n\u001b[1;32m      4\u001b[0m     \u001b[0mtarget_size\u001b[0m\u001b[0;34m=\u001b[0m\u001b[0;34m(\u001b[0m\u001b[0;36m224\u001b[0m\u001b[0;34m,\u001b[0m \u001b[0;36m224\u001b[0m\u001b[0;34m)\u001b[0m\u001b[0;34m,\u001b[0m\u001b[0;34m\u001b[0m\u001b[0;34m\u001b[0m\u001b[0m\n\u001b[1;32m      5\u001b[0m     \u001b[0mcolor_mode\u001b[0m\u001b[0;34m=\u001b[0m\u001b[0;34m'rgb'\u001b[0m\u001b[0;34m,\u001b[0m\u001b[0;34m\u001b[0m\u001b[0;34m\u001b[0m\u001b[0m\n",
            "\u001b[0;31mNameError\u001b[0m: name 'train_generator' is not defined"
          ]
        }
      ]
    },
    {
      "cell_type": "code",
      "source": [
        "print(\"Training image shape:\", train_images.image_shape)\n",
        "print(\"Validation image shape:\", val_images.image_shape)"
      ],
      "metadata": {
        "colab": {
          "base_uri": "https://localhost:8080/"
        },
        "id": "0gM0NQ-wBJit",
        "outputId": "59e36998-f2ad-4241-dbdb-c3449823efd3"
      },
      "execution_count": null,
      "outputs": [
        {
          "output_type": "stream",
          "name": "stdout",
          "text": [
            "Training image shape: (224, 224, 3)\n",
            "Validation image shape: (224, 224, 3)\n"
          ]
        }
      ]
    },
    {
      "cell_type": "code",
      "source": [
        "train_images.class_indices"
      ],
      "metadata": {
        "colab": {
          "base_uri": "https://localhost:8080/"
        },
        "id": "HpBab0rRIkjx",
        "outputId": "d83e7d17-01df-4b71-b7eb-657a4630f026"
      },
      "execution_count": null,
      "outputs": [
        {
          "output_type": "execute_result",
          "data": {
            "text/plain": [
              "{'Black Sea Sprat': 0,\n",
              " 'Gilt Head Bream': 1,\n",
              " 'Horse Mackerel': 2,\n",
              " 'Red Mullet': 3,\n",
              " 'Red Sea Bream': 4,\n",
              " 'Sea Bass': 5,\n",
              " 'Shrimp': 6,\n",
              " 'Striped Red Mullet': 7,\n",
              " 'Trout': 8}"
            ]
          },
          "metadata": {},
          "execution_count": 6
        }
      ]
    },
    {
      "cell_type": "code",
      "source": [
        "val_images.class_indices"
      ],
      "metadata": {
        "colab": {
          "base_uri": "https://localhost:8080/"
        },
        "id": "zpssP4gHIrLE",
        "outputId": "1bc788b9-dcea-4e00-b67f-19eb3a0c5bca"
      },
      "execution_count": null,
      "outputs": [
        {
          "output_type": "execute_result",
          "data": {
            "text/plain": [
              "{'Black Sea Sprat': 0,\n",
              " 'Gilt Head Bream': 1,\n",
              " 'Horse Mackerel': 2,\n",
              " 'Red Mullet': 3,\n",
              " 'Red Sea Bream': 4,\n",
              " 'Sea Bass': 5,\n",
              " 'Shrimp': 6,\n",
              " 'Striped Red Mullet': 7,\n",
              " 'Trout': 8}"
            ]
          },
          "metadata": {},
          "execution_count": 7
        }
      ]
    },
    {
      "cell_type": "code",
      "source": [
        "train_images.filenames"
      ],
      "metadata": {
        "colab": {
          "base_uri": "https://localhost:8080/"
        },
        "id": "WvNpGFsaNiRS",
        "outputId": "d75e9cf6-0dcb-4c33-9dfc-757692f120e6"
      },
      "execution_count": null,
      "outputs": [
        {
          "output_type": "execute_result",
          "data": {
            "text/plain": [
              "['Black Sea Sprat/00011.png',\n",
              " 'Black Sea Sprat/00012.png',\n",
              " 'Black Sea Sprat/00013.png',\n",
              " 'Black Sea Sprat/00014.png',\n",
              " 'Black Sea Sprat/00015.png',\n",
              " 'Black Sea Sprat/00016.png',\n",
              " 'Black Sea Sprat/00017.png',\n",
              " 'Black Sea Sprat/00018.png',\n",
              " 'Black Sea Sprat/00019.png',\n",
              " 'Black Sea Sprat/00020.png',\n",
              " 'Black Sea Sprat/00021.png',\n",
              " 'Black Sea Sprat/00022.png',\n",
              " 'Black Sea Sprat/00023.png',\n",
              " 'Black Sea Sprat/00024.png',\n",
              " 'Black Sea Sprat/00025.png',\n",
              " 'Black Sea Sprat/00026.png',\n",
              " 'Black Sea Sprat/00027.png',\n",
              " 'Black Sea Sprat/00028.png',\n",
              " 'Black Sea Sprat/00029.png',\n",
              " 'Black Sea Sprat/00030.png',\n",
              " 'Black Sea Sprat/00031.png',\n",
              " 'Black Sea Sprat/00032.png',\n",
              " 'Black Sea Sprat/00033.png',\n",
              " 'Black Sea Sprat/00034.png',\n",
              " 'Black Sea Sprat/00035.png',\n",
              " 'Black Sea Sprat/00036.png',\n",
              " 'Black Sea Sprat/00037.png',\n",
              " 'Black Sea Sprat/00038.png',\n",
              " 'Black Sea Sprat/00039.png',\n",
              " 'Black Sea Sprat/00040.png',\n",
              " 'Black Sea Sprat/00041.png',\n",
              " 'Black Sea Sprat/00042.png',\n",
              " 'Black Sea Sprat/00043.png',\n",
              " 'Black Sea Sprat/00044.png',\n",
              " 'Black Sea Sprat/00045.png',\n",
              " 'Black Sea Sprat/00046.png',\n",
              " 'Black Sea Sprat/00047.png',\n",
              " 'Black Sea Sprat/00048.png',\n",
              " 'Black Sea Sprat/00049.png',\n",
              " 'Black Sea Sprat/00050.png',\n",
              " 'Gilt Head Bream/19.JPG',\n",
              " 'Gilt Head Bream/2.JPG',\n",
              " 'Gilt Head Bream/20.JPG',\n",
              " 'Gilt Head Bream/21.png',\n",
              " 'Gilt Head Bream/22.JPG',\n",
              " 'Gilt Head Bream/23.JPG',\n",
              " 'Gilt Head Bream/24.JPG',\n",
              " 'Gilt Head Bream/25.JPG',\n",
              " 'Gilt Head Bream/26.JPG',\n",
              " 'Gilt Head Bream/27.JPG',\n",
              " 'Gilt Head Bream/28.JPG',\n",
              " 'Gilt Head Bream/29.JPG',\n",
              " 'Gilt Head Bream/3.JPG',\n",
              " 'Gilt Head Bream/30.JPG',\n",
              " 'Gilt Head Bream/31.JPG',\n",
              " 'Gilt Head Bream/32.JPG',\n",
              " 'Gilt Head Bream/33.JPG',\n",
              " 'Gilt Head Bream/34.JPG',\n",
              " 'Gilt Head Bream/35.JPG',\n",
              " 'Gilt Head Bream/36.JPG',\n",
              " 'Gilt Head Bream/37.JPG',\n",
              " 'Gilt Head Bream/38.JPG',\n",
              " 'Gilt Head Bream/39.JPG',\n",
              " 'Gilt Head Bream/4.JPG',\n",
              " 'Gilt Head Bream/40.JPG',\n",
              " 'Gilt Head Bream/41.JPG',\n",
              " 'Gilt Head Bream/42.JPG',\n",
              " 'Gilt Head Bream/43.JPG',\n",
              " 'Gilt Head Bream/44.JPG',\n",
              " 'Gilt Head Bream/45.JPG',\n",
              " 'Gilt Head Bream/46.JPG',\n",
              " 'Gilt Head Bream/47.JPG',\n",
              " 'Gilt Head Bream/48.JPG',\n",
              " 'Gilt Head Bream/49.JPG',\n",
              " 'Gilt Head Bream/5.JPG',\n",
              " 'Gilt Head Bream/50.JPG',\n",
              " 'Gilt Head Bream/6.JPG',\n",
              " 'Gilt Head Bream/7.JPG',\n",
              " 'Gilt Head Bream/8.JPG',\n",
              " 'Gilt Head Bream/9.JPG',\n",
              " 'Horse Mackerel/00011.png',\n",
              " 'Horse Mackerel/00012.png',\n",
              " 'Horse Mackerel/00013.png',\n",
              " 'Horse Mackerel/00014.png',\n",
              " 'Horse Mackerel/00015.png',\n",
              " 'Horse Mackerel/00016.png',\n",
              " 'Horse Mackerel/00017.png',\n",
              " 'Horse Mackerel/00018.png',\n",
              " 'Horse Mackerel/00019.png',\n",
              " 'Horse Mackerel/00020.png',\n",
              " 'Horse Mackerel/00021.png',\n",
              " 'Horse Mackerel/00022.png',\n",
              " 'Horse Mackerel/00023.png',\n",
              " 'Horse Mackerel/00024.png',\n",
              " 'Horse Mackerel/00025.png',\n",
              " 'Horse Mackerel/00026.png',\n",
              " 'Horse Mackerel/00027.png',\n",
              " 'Horse Mackerel/00028.png',\n",
              " 'Horse Mackerel/00029.png',\n",
              " 'Horse Mackerel/00030.png',\n",
              " 'Horse Mackerel/00031.png',\n",
              " 'Horse Mackerel/00032.png',\n",
              " 'Horse Mackerel/00033.png',\n",
              " 'Horse Mackerel/00034.png',\n",
              " 'Horse Mackerel/00035.png',\n",
              " 'Horse Mackerel/00036.png',\n",
              " 'Horse Mackerel/00037.png',\n",
              " 'Horse Mackerel/00038.png',\n",
              " 'Horse Mackerel/00039.png',\n",
              " 'Horse Mackerel/00040.png',\n",
              " 'Horse Mackerel/00041.png',\n",
              " 'Horse Mackerel/00042.png',\n",
              " 'Horse Mackerel/00043.png',\n",
              " 'Horse Mackerel/00044.png',\n",
              " 'Horse Mackerel/00045.png',\n",
              " 'Horse Mackerel/00046.png',\n",
              " 'Horse Mackerel/00047.png',\n",
              " 'Horse Mackerel/00048.png',\n",
              " 'Horse Mackerel/00049.png',\n",
              " 'Horse Mackerel/00050.png',\n",
              " 'Red Mullet/00011.png',\n",
              " 'Red Mullet/00012.png',\n",
              " 'Red Mullet/00013.png',\n",
              " 'Red Mullet/00014.png',\n",
              " 'Red Mullet/00015.png',\n",
              " 'Red Mullet/00016.png',\n",
              " 'Red Mullet/00017.png',\n",
              " 'Red Mullet/00018.png',\n",
              " 'Red Mullet/00019.png',\n",
              " 'Red Mullet/00020.png',\n",
              " 'Red Mullet/00021.png',\n",
              " 'Red Mullet/00022.png',\n",
              " 'Red Mullet/00023.png',\n",
              " 'Red Mullet/00024.png',\n",
              " 'Red Mullet/00025.png',\n",
              " 'Red Mullet/00026.png',\n",
              " 'Red Mullet/00027.png',\n",
              " 'Red Mullet/00028.png',\n",
              " 'Red Mullet/00029.png',\n",
              " 'Red Mullet/00030.png',\n",
              " 'Red Mullet/00031.png',\n",
              " 'Red Mullet/00032.png',\n",
              " 'Red Mullet/00033.png',\n",
              " 'Red Mullet/00034.png',\n",
              " 'Red Mullet/00035.png',\n",
              " 'Red Mullet/00036.png',\n",
              " 'Red Mullet/00037.png',\n",
              " 'Red Mullet/00038.png',\n",
              " 'Red Mullet/00039.png',\n",
              " 'Red Mullet/00040.png',\n",
              " 'Red Mullet/00041.png',\n",
              " 'Red Mullet/00042.png',\n",
              " 'Red Mullet/00043.png',\n",
              " 'Red Mullet/00044.png',\n",
              " 'Red Mullet/00045.png',\n",
              " 'Red Mullet/00046.png',\n",
              " 'Red Mullet/00047.png',\n",
              " 'Red Mullet/00048.png',\n",
              " 'Red Mullet/00049.png',\n",
              " 'Red Mullet/00050.png',\n",
              " 'Red Sea Bream/100_1482.JPG',\n",
              " 'Red Sea Bream/100_1483.JPG',\n",
              " 'Red Sea Bream/100_1484.JPG',\n",
              " 'Red Sea Bream/100_1485.JPG',\n",
              " 'Red Sea Bream/100_1486.JPG',\n",
              " 'Red Sea Bream/100_1487.JPG',\n",
              " 'Red Sea Bream/100_1488.JPG',\n",
              " 'Red Sea Bream/100_1489.JPG',\n",
              " 'Red Sea Bream/SAM_5533.JPG',\n",
              " 'Red Sea Bream/SAM_5534.JPG',\n",
              " 'Red Sea Bream/SAM_5535.JPG',\n",
              " 'Red Sea Bream/SAM_5536.JPG',\n",
              " 'Red Sea Bream/SAM_5537.JPG',\n",
              " 'Red Sea Bream/SAM_5538.JPG',\n",
              " 'Red Sea Bream/SAM_5540.JPG',\n",
              " 'Red Sea Bream/SAM_5543.JPG',\n",
              " 'Red Sea Bream/SAM_5544.JPG',\n",
              " 'Red Sea Bream/SAM_5545.JPG',\n",
              " 'Red Sea Bream/SAM_5547.JPG',\n",
              " 'Red Sea Bream/SAM_5549.JPG',\n",
              " 'Red Sea Bream/SAM_5550.JPG',\n",
              " 'Red Sea Bream/SAM_5551.JPG',\n",
              " 'Red Sea Bream/SAM_5552.JPG',\n",
              " 'Red Sea Bream/SAM_5554.JPG',\n",
              " 'Red Sea Bream/SAM_5555.JPG',\n",
              " 'Red Sea Bream/SAM_5557.JPG',\n",
              " 'Red Sea Bream/SAM_5558.JPG',\n",
              " 'Red Sea Bream/SAM_5561.JPG',\n",
              " 'Red Sea Bream/SAM_5564.JPG',\n",
              " 'Red Sea Bream/SAM_5565.JPG',\n",
              " 'Red Sea Bream/SAM_5568.JPG',\n",
              " 'Red Sea Bream/SAM_5569.JPG',\n",
              " 'Red Sea Bream/SAM_5571.JPG',\n",
              " 'Red Sea Bream/SAM_5573.JPG',\n",
              " 'Red Sea Bream/SAM_5575.JPG',\n",
              " 'Red Sea Bream/SAM_5577.JPG',\n",
              " 'Red Sea Bream/SAM_5581.JPG',\n",
              " 'Red Sea Bream/SAM_5582.JPG',\n",
              " 'Red Sea Bream/SAM_5583.JPG',\n",
              " 'Red Sea Bream/WhatsApp Image 2019-04-25 at 15.33.13.jpeg',\n",
              " 'Sea Bass/19.JPG',\n",
              " 'Sea Bass/2.JPG',\n",
              " 'Sea Bass/20.JPG',\n",
              " 'Sea Bass/21.JPG',\n",
              " 'Sea Bass/22.JPG',\n",
              " 'Sea Bass/23.JPG',\n",
              " 'Sea Bass/24.JPG',\n",
              " 'Sea Bass/25.JPG',\n",
              " 'Sea Bass/26.JPG',\n",
              " 'Sea Bass/27.JPG',\n",
              " 'Sea Bass/28.JPG',\n",
              " 'Sea Bass/29.JPG',\n",
              " 'Sea Bass/3.JPG',\n",
              " 'Sea Bass/30.JPG',\n",
              " 'Sea Bass/31.JPG',\n",
              " 'Sea Bass/32.JPG',\n",
              " 'Sea Bass/33.JPG',\n",
              " 'Sea Bass/34.JPG',\n",
              " 'Sea Bass/35.JPG',\n",
              " 'Sea Bass/36.JPG',\n",
              " 'Sea Bass/37.JPG',\n",
              " 'Sea Bass/38.JPG',\n",
              " 'Sea Bass/39.JPG',\n",
              " 'Sea Bass/4.JPG',\n",
              " 'Sea Bass/40.JPG',\n",
              " 'Sea Bass/41.JPG',\n",
              " 'Sea Bass/42.JPG',\n",
              " 'Sea Bass/43.JPG',\n",
              " 'Sea Bass/44.JPG',\n",
              " 'Sea Bass/45.JPG',\n",
              " 'Sea Bass/46.JPG',\n",
              " 'Sea Bass/47.JPG',\n",
              " 'Sea Bass/48.JPG',\n",
              " 'Sea Bass/49.JPG',\n",
              " 'Sea Bass/5.JPG',\n",
              " 'Sea Bass/50.JPG',\n",
              " 'Sea Bass/6.JPG',\n",
              " 'Sea Bass/7.JPG',\n",
              " 'Sea Bass/8.JPG',\n",
              " 'Sea Bass/9.JPG',\n",
              " 'Shrimp/00011.png',\n",
              " 'Shrimp/00012.png',\n",
              " 'Shrimp/00013.png',\n",
              " 'Shrimp/00014.png',\n",
              " 'Shrimp/00015.png',\n",
              " 'Shrimp/00016.png',\n",
              " 'Shrimp/00017.png',\n",
              " 'Shrimp/00018.png',\n",
              " 'Shrimp/00019.png',\n",
              " 'Shrimp/00020.png',\n",
              " 'Shrimp/00021.png',\n",
              " 'Shrimp/00022.png',\n",
              " 'Shrimp/00023.png',\n",
              " 'Shrimp/00024.png',\n",
              " 'Shrimp/00025.png',\n",
              " 'Shrimp/00026.png',\n",
              " 'Shrimp/00027.png',\n",
              " 'Shrimp/00028.png',\n",
              " 'Shrimp/00029.png',\n",
              " 'Shrimp/00030.png',\n",
              " 'Shrimp/00031.png',\n",
              " 'Shrimp/00032.png',\n",
              " 'Shrimp/00033.png',\n",
              " 'Shrimp/00034.png',\n",
              " 'Shrimp/00035.png',\n",
              " 'Shrimp/00036.png',\n",
              " 'Shrimp/00037.png',\n",
              " 'Shrimp/00038.png',\n",
              " 'Shrimp/00039.png',\n",
              " 'Shrimp/00040.png',\n",
              " 'Shrimp/00041.png',\n",
              " 'Shrimp/00042.png',\n",
              " 'Shrimp/00043.png',\n",
              " 'Shrimp/00044.png',\n",
              " 'Shrimp/00045.png',\n",
              " 'Shrimp/00046.png',\n",
              " 'Shrimp/00047.png',\n",
              " 'Shrimp/00048.png',\n",
              " 'Shrimp/00049.png',\n",
              " 'Shrimp/00050.png',\n",
              " 'Striped Red Mullet/00011.png',\n",
              " 'Striped Red Mullet/00012.png',\n",
              " 'Striped Red Mullet/00013.png',\n",
              " 'Striped Red Mullet/00014.png',\n",
              " 'Striped Red Mullet/00015.png',\n",
              " 'Striped Red Mullet/00016.png',\n",
              " 'Striped Red Mullet/00017.png',\n",
              " 'Striped Red Mullet/00018.png',\n",
              " 'Striped Red Mullet/00019.png',\n",
              " 'Striped Red Mullet/00020.png',\n",
              " 'Striped Red Mullet/00021.png',\n",
              " 'Striped Red Mullet/00022.png',\n",
              " 'Striped Red Mullet/00023.png',\n",
              " 'Striped Red Mullet/00024.png',\n",
              " 'Striped Red Mullet/00025.png',\n",
              " 'Striped Red Mullet/00026.png',\n",
              " 'Striped Red Mullet/00027.png',\n",
              " 'Striped Red Mullet/00028.png',\n",
              " 'Striped Red Mullet/00029.png',\n",
              " 'Striped Red Mullet/00030.png',\n",
              " 'Striped Red Mullet/00031.png',\n",
              " 'Striped Red Mullet/00032.png',\n",
              " 'Striped Red Mullet/00033.png',\n",
              " 'Striped Red Mullet/00034.png',\n",
              " 'Striped Red Mullet/00035.png',\n",
              " 'Striped Red Mullet/00036.png',\n",
              " 'Striped Red Mullet/00037.png',\n",
              " 'Striped Red Mullet/00038.png',\n",
              " 'Striped Red Mullet/00039.png',\n",
              " 'Striped Red Mullet/00040.png',\n",
              " 'Striped Red Mullet/00041.png',\n",
              " 'Striped Red Mullet/00042.png',\n",
              " 'Striped Red Mullet/00043.png',\n",
              " 'Striped Red Mullet/00044.png',\n",
              " 'Striped Red Mullet/00045.png',\n",
              " 'Striped Red Mullet/00046.png',\n",
              " 'Striped Red Mullet/00047.png',\n",
              " 'Striped Red Mullet/00048.png',\n",
              " 'Striped Red Mullet/00049.png',\n",
              " 'Striped Red Mullet/00050.png',\n",
              " 'Trout/00007.png',\n",
              " 'Trout/00008.png',\n",
              " 'Trout/00009.png',\n",
              " 'Trout/00010.png',\n",
              " 'Trout/00011.png',\n",
              " 'Trout/00012.png',\n",
              " 'Trout/00013.png',\n",
              " 'Trout/00014.png',\n",
              " 'Trout/00015.png',\n",
              " 'Trout/00016.png',\n",
              " 'Trout/00017.png',\n",
              " 'Trout/00018.png',\n",
              " 'Trout/00019.png',\n",
              " 'Trout/00020.png',\n",
              " 'Trout/00021.png',\n",
              " 'Trout/00022.png',\n",
              " 'Trout/00023.png',\n",
              " 'Trout/00024.png',\n",
              " 'Trout/00025.png',\n",
              " 'Trout/00026.png',\n",
              " 'Trout/00027.png',\n",
              " 'Trout/00028.png',\n",
              " 'Trout/00029.png',\n",
              " 'Trout/00030.png']"
            ]
          },
          "metadata": {},
          "execution_count": 8
        }
      ]
    },
    {
      "cell_type": "code",
      "source": [
        "import keras\n",
        "from tensorflow.keras.optimizers import Adam\n",
        "from keras.models import Sequential\n",
        "from keras.layers import Dense, Conv2D, MaxPool2D , Flatten\n",
        "import numpy as np\n",
        "from keras.callbacks import ModelCheckpoint, EarlyStopping"
      ],
      "metadata": {
        "id": "RKpgdmcbw7ZS"
      },
      "execution_count": null,
      "outputs": []
    },
    {
      "cell_type": "markdown",
      "source": [
        "2. Defining VGG16 (CNN) Architecture"
      ],
      "metadata": {
        "id": "Y8tJFnmZxE_Q"
      }
    },
    {
      "cell_type": "code",
      "source": [
        "model = Sequential()\n",
        "model.add(Conv2D(input_shape=(224,224,3),filters=64,kernel_size=(3,3),padding=\"same\", activation=\"relu\"))\n",
        "model.add(Conv2D(filters=64,kernel_size=(3,3),padding=\"same\", activation=\"relu\"))\n",
        "model.add(MaxPool2D(pool_size=(2,2),strides=(2,2)))\n",
        "model.add(Conv2D(filters=128, kernel_size=(3,3), padding=\"same\", activation=\"relu\"))\n",
        "model.add(Conv2D(filters=128, kernel_size=(3,3), padding=\"same\", activation=\"relu\"))\n",
        "model.add(MaxPool2D(pool_size=(2,2),strides=(2,2)))\n",
        "model.add(Conv2D(filters=256, kernel_size=(3,3), padding=\"same\", activation=\"relu\"))\n",
        "model.add(Conv2D(filters=256, kernel_size=(3,3), padding=\"same\", activation=\"relu\"))\n",
        "model.add(Conv2D(filters=256, kernel_size=(3,3), padding=\"same\", activation=\"relu\"))\n",
        "model.add(MaxPool2D(pool_size=(2,2),strides=(2,2)))\n",
        "model.add(Conv2D(filters=512, kernel_size=(3,3), padding=\"same\", activation=\"relu\"))\n",
        "model.add(Conv2D(filters=512, kernel_size=(3,3), padding=\"same\", activation=\"relu\"))\n",
        "model.add(Conv2D(filters=512, kernel_size=(3,3), padding=\"same\", activation=\"relu\"))\n",
        "model.add(MaxPool2D(pool_size=(2,2),strides=(2,2)))\n",
        "model.add(Conv2D(filters=512, kernel_size=(3,3), padding=\"same\", activation=\"relu\"))\n",
        "model.add(Conv2D(filters=512, kernel_size=(3,3), padding=\"same\", activation=\"relu\"))\n",
        "model.add(Conv2D(filters=512, kernel_size=(3,3), padding=\"same\", activation=\"relu\"))\n",
        "model.add(MaxPool2D(pool_size=(2,2),strides=(2,2)))\n",
        "model.add(Flatten())\n",
        "model.add(Dense(units=4096,activation=\"relu\"))\n",
        "model.add(Dense(units=4096,activation=\"relu\"))\n",
        "model.add(Dense(units=9, activation=\"softmax\")) # Match number of fish classes/species (was 2 before - caused graph error)\n",
        "\n",
        "optimizer = Adam(learning_rate=0.001) # Fine tune\n",
        "model.compile(optimizer=optimizer, loss='categorical_crossentropy', metrics=['accuracy'])\n",
        "\n",
        "model.summary()"
      ],
      "metadata": {
        "id": "pB_UJG23NlUj",
        "colab": {
          "base_uri": "https://localhost:8080/"
        },
        "outputId": "973be7af-8041-4b27-a8e0-8862d2252ca3"
      },
      "execution_count": null,
      "outputs": [
        {
          "output_type": "stream",
          "name": "stdout",
          "text": [
            "Model: \"sequential\"\n",
            "_________________________________________________________________\n",
            " Layer (type)                Output Shape              Param #   \n",
            "=================================================================\n",
            " conv2d (Conv2D)             (None, 224, 224, 64)      1792      \n",
            "                                                                 \n",
            " conv2d_1 (Conv2D)           (None, 224, 224, 64)      36928     \n",
            "                                                                 \n",
            " max_pooling2d (MaxPooling2D  (None, 112, 112, 64)     0         \n",
            " )                                                               \n",
            "                                                                 \n",
            " conv2d_2 (Conv2D)           (None, 112, 112, 128)     73856     \n",
            "                                                                 \n",
            " conv2d_3 (Conv2D)           (None, 112, 112, 128)     147584    \n",
            "                                                                 \n",
            " max_pooling2d_1 (MaxPooling  (None, 56, 56, 128)      0         \n",
            " 2D)                                                             \n",
            "                                                                 \n",
            " conv2d_4 (Conv2D)           (None, 56, 56, 256)       295168    \n",
            "                                                                 \n",
            " conv2d_5 (Conv2D)           (None, 56, 56, 256)       590080    \n",
            "                                                                 \n",
            " conv2d_6 (Conv2D)           (None, 56, 56, 256)       590080    \n",
            "                                                                 \n",
            " max_pooling2d_2 (MaxPooling  (None, 28, 28, 256)      0         \n",
            " 2D)                                                             \n",
            "                                                                 \n",
            " conv2d_7 (Conv2D)           (None, 28, 28, 512)       1180160   \n",
            "                                                                 \n",
            " conv2d_8 (Conv2D)           (None, 28, 28, 512)       2359808   \n",
            "                                                                 \n",
            " conv2d_9 (Conv2D)           (None, 28, 28, 512)       2359808   \n",
            "                                                                 \n",
            " max_pooling2d_3 (MaxPooling  (None, 14, 14, 512)      0         \n",
            " 2D)                                                             \n",
            "                                                                 \n",
            " conv2d_10 (Conv2D)          (None, 14, 14, 512)       2359808   \n",
            "                                                                 \n",
            " conv2d_11 (Conv2D)          (None, 14, 14, 512)       2359808   \n",
            "                                                                 \n",
            " conv2d_12 (Conv2D)          (None, 14, 14, 512)       2359808   \n",
            "                                                                 \n",
            " max_pooling2d_4 (MaxPooling  (None, 7, 7, 512)        0         \n",
            " 2D)                                                             \n",
            "                                                                 \n",
            " flatten (Flatten)           (None, 25088)             0         \n",
            "                                                                 \n",
            " dense (Dense)               (None, 4096)              102764544 \n",
            "                                                                 \n",
            " dense_1 (Dense)             (None, 4096)              16781312  \n",
            "                                                                 \n",
            " dense_2 (Dense)             (None, 9)                 36873     \n",
            "                                                                 \n",
            "=================================================================\n",
            "Total params: 134,297,417\n",
            "Trainable params: 134,297,417\n",
            "Non-trainable params: 0\n",
            "_________________________________________________________________\n"
          ]
        }
      ]
    },
    {
      "cell_type": "markdown",
      "source": [
        "3. Defining Schedulers and Callbacks"
      ],
      "metadata": {
        "id": "7jg-ixS3xn0e"
      }
    },
    {
      "cell_type": "code",
      "source": [
        "model_name = \"best_model_vgg_cnn.h5\"\n",
        "early_stop = tf.keras.callbacks.EarlyStopping(monitor='val_loss', patience = 20) # Fine tune\n",
        "\n",
        "monitor = tf.keras.callbacks.ModelCheckpoint(model_name, monitor='val_loss',\\\n",
        "                                             verbose=0,save_best_only=True,\\\n",
        "                                             save_weights_only=True,\\\n",
        "                                             mode='min') # Fine tune (we may want different saving parameters)\n",
        "# Learning rate schedule\n",
        "def scheduler(epoch, lr): # Fine tune\n",
        "    if epoch%10 == 0: \n",
        "        lr = lr/2 \n",
        "    return lr\n",
        "\n",
        "lr_schedule = tf.keras.callbacks.LearningRateScheduler(scheduler,verbose = 0)"
      ],
      "metadata": {
        "id": "sKzgcZxvxnf1"
      },
      "execution_count": null,
      "outputs": []
    },
    {
      "cell_type": "markdown",
      "source": [
        "4. Training Model"
      ],
      "metadata": {
        "id": "9QwjzSdOTT5Y"
      }
    },
    {
      "cell_type": "code",
      "source": [
        "model.fit(\n",
        "    train_images, # Generator (contains class labels)\n",
        "    validation_data=val_images, # Generator (contains class labels)\n",
        "    batch_size=32, # Fine tune\n",
        "    epochs=10, # Fine tune\n",
        "    callbacks=[early_stop, monitor, lr_schedule]\n",
        ")\n",
        "model.fit(train_images,batch_size = 32, epochs = 12, \\\n",
        "          verbose = 1, callbacks= [early_stop, monitor, lr_schedule],validation_data=val_images) # Fine tune"
      ],
      "metadata": {
        "colab": {
          "base_uri": "https://localhost:8080/",
          "height": 380
        },
        "id": "4xH3sWvIz_k5",
        "outputId": "1004d632-3755-4602-dea2-ddbddf9afe0e"
      },
      "execution_count": null,
      "outputs": [
        {
          "output_type": "error",
          "ename": "KeyboardInterrupt",
          "evalue": "ignored",
          "traceback": [
            "\u001b[0;31m---------------------------------------------------------------------------\u001b[0m",
            "\u001b[0;31mKeyboardInterrupt\u001b[0m                         Traceback (most recent call last)",
            "\u001b[0;32m<ipython-input-15-1c5a20c75435>\u001b[0m in \u001b[0;36m<module>\u001b[0;34m()\u001b[0m\n\u001b[1;32m      4\u001b[0m     \u001b[0mbatch_size\u001b[0m\u001b[0;34m=\u001b[0m\u001b[0;36m32\u001b[0m\u001b[0;34m,\u001b[0m\u001b[0;34m\u001b[0m\u001b[0;34m\u001b[0m\u001b[0m\n\u001b[1;32m      5\u001b[0m     \u001b[0mepochs\u001b[0m\u001b[0;34m=\u001b[0m\u001b[0;36m10\u001b[0m\u001b[0;34m,\u001b[0m\u001b[0;34m\u001b[0m\u001b[0;34m\u001b[0m\u001b[0m\n\u001b[0;32m----> 6\u001b[0;31m     \u001b[0mcallbacks\u001b[0m\u001b[0;34m=\u001b[0m\u001b[0;34m[\u001b[0m\u001b[0mearly_stop\u001b[0m\u001b[0;34m,\u001b[0m \u001b[0mmonitor\u001b[0m\u001b[0;34m,\u001b[0m \u001b[0mlr_schedule\u001b[0m\u001b[0;34m]\u001b[0m\u001b[0;34m\u001b[0m\u001b[0;34m\u001b[0m\u001b[0m\n\u001b[0m\u001b[1;32m      7\u001b[0m )\n\u001b[1;32m      8\u001b[0m \u001b[0mmodel\u001b[0m\u001b[0;34m.\u001b[0m\u001b[0mfit\u001b[0m\u001b[0;34m(\u001b[0m\u001b[0mtrain_images\u001b[0m\u001b[0;34m,\u001b[0m\u001b[0mbatch_size\u001b[0m \u001b[0;34m=\u001b[0m \u001b[0;36m32\u001b[0m\u001b[0;34m,\u001b[0m \u001b[0mepochs\u001b[0m \u001b[0;34m=\u001b[0m \u001b[0;36m12\u001b[0m\u001b[0;34m,\u001b[0m           \u001b[0mverbose\u001b[0m \u001b[0;34m=\u001b[0m \u001b[0;36m1\u001b[0m\u001b[0;34m,\u001b[0m \u001b[0mcallbacks\u001b[0m\u001b[0;34m=\u001b[0m \u001b[0;34m[\u001b[0m\u001b[0mearly_stop\u001b[0m\u001b[0;34m,\u001b[0m \u001b[0mmonitor\u001b[0m\u001b[0;34m,\u001b[0m \u001b[0mlr_schedule\u001b[0m\u001b[0;34m]\u001b[0m\u001b[0;34m,\u001b[0m\u001b[0mvalidation_data\u001b[0m\u001b[0;34m=\u001b[0m\u001b[0mval_images\u001b[0m\u001b[0;34m)\u001b[0m\u001b[0;34m\u001b[0m\u001b[0;34m\u001b[0m\u001b[0m\n",
            "\u001b[0;32m/usr/local/lib/python3.7/dist-packages/keras/utils/traceback_utils.py\u001b[0m in \u001b[0;36merror_handler\u001b[0;34m(*args, **kwargs)\u001b[0m\n\u001b[1;32m     62\u001b[0m     \u001b[0mfiltered_tb\u001b[0m \u001b[0;34m=\u001b[0m \u001b[0;32mNone\u001b[0m\u001b[0;34m\u001b[0m\u001b[0;34m\u001b[0m\u001b[0m\n\u001b[1;32m     63\u001b[0m     \u001b[0;32mtry\u001b[0m\u001b[0;34m:\u001b[0m\u001b[0;34m\u001b[0m\u001b[0;34m\u001b[0m\u001b[0m\n\u001b[0;32m---> 64\u001b[0;31m       \u001b[0;32mreturn\u001b[0m \u001b[0mfn\u001b[0m\u001b[0;34m(\u001b[0m\u001b[0;34m*\u001b[0m\u001b[0margs\u001b[0m\u001b[0;34m,\u001b[0m \u001b[0;34m**\u001b[0m\u001b[0mkwargs\u001b[0m\u001b[0;34m)\u001b[0m\u001b[0;34m\u001b[0m\u001b[0;34m\u001b[0m\u001b[0m\n\u001b[0m\u001b[1;32m     65\u001b[0m     \u001b[0;32mexcept\u001b[0m \u001b[0mException\u001b[0m \u001b[0;32mas\u001b[0m \u001b[0me\u001b[0m\u001b[0;34m:\u001b[0m  \u001b[0;31m# pylint: disable=broad-except\u001b[0m\u001b[0;34m\u001b[0m\u001b[0;34m\u001b[0m\u001b[0m\n\u001b[1;32m     66\u001b[0m       \u001b[0mfiltered_tb\u001b[0m \u001b[0;34m=\u001b[0m \u001b[0m_process_traceback_frames\u001b[0m\u001b[0;34m(\u001b[0m\u001b[0me\u001b[0m\u001b[0;34m.\u001b[0m\u001b[0m__traceback__\u001b[0m\u001b[0;34m)\u001b[0m\u001b[0;34m\u001b[0m\u001b[0;34m\u001b[0m\u001b[0m\n",
            "\u001b[0;32m/usr/local/lib/python3.7/dist-packages/keras/engine/training.py\u001b[0m in \u001b[0;36mfit\u001b[0;34m(self, x, y, batch_size, epochs, verbose, callbacks, validation_split, validation_data, shuffle, class_weight, sample_weight, initial_epoch, steps_per_epoch, validation_steps, validation_batch_size, validation_freq, max_queue_size, workers, use_multiprocessing)\u001b[0m\n\u001b[1;32m   1382\u001b[0m                 _r=1):\n\u001b[1;32m   1383\u001b[0m               \u001b[0mcallbacks\u001b[0m\u001b[0;34m.\u001b[0m\u001b[0mon_train_batch_begin\u001b[0m\u001b[0;34m(\u001b[0m\u001b[0mstep\u001b[0m\u001b[0;34m)\u001b[0m\u001b[0;34m\u001b[0m\u001b[0;34m\u001b[0m\u001b[0m\n\u001b[0;32m-> 1384\u001b[0;31m               \u001b[0mtmp_logs\u001b[0m \u001b[0;34m=\u001b[0m \u001b[0mself\u001b[0m\u001b[0;34m.\u001b[0m\u001b[0mtrain_function\u001b[0m\u001b[0;34m(\u001b[0m\u001b[0miterator\u001b[0m\u001b[0;34m)\u001b[0m\u001b[0;34m\u001b[0m\u001b[0;34m\u001b[0m\u001b[0m\n\u001b[0m\u001b[1;32m   1385\u001b[0m               \u001b[0;32mif\u001b[0m \u001b[0mdata_handler\u001b[0m\u001b[0;34m.\u001b[0m\u001b[0mshould_sync\u001b[0m\u001b[0;34m:\u001b[0m\u001b[0;34m\u001b[0m\u001b[0;34m\u001b[0m\u001b[0m\n\u001b[1;32m   1386\u001b[0m                 \u001b[0mcontext\u001b[0m\u001b[0;34m.\u001b[0m\u001b[0masync_wait\u001b[0m\u001b[0;34m(\u001b[0m\u001b[0;34m)\u001b[0m\u001b[0;34m\u001b[0m\u001b[0;34m\u001b[0m\u001b[0m\n",
            "\u001b[0;32m/usr/local/lib/python3.7/dist-packages/tensorflow/python/util/traceback_utils.py\u001b[0m in \u001b[0;36merror_handler\u001b[0;34m(*args, **kwargs)\u001b[0m\n\u001b[1;32m    148\u001b[0m     \u001b[0mfiltered_tb\u001b[0m \u001b[0;34m=\u001b[0m \u001b[0;32mNone\u001b[0m\u001b[0;34m\u001b[0m\u001b[0;34m\u001b[0m\u001b[0m\n\u001b[1;32m    149\u001b[0m     \u001b[0;32mtry\u001b[0m\u001b[0;34m:\u001b[0m\u001b[0;34m\u001b[0m\u001b[0;34m\u001b[0m\u001b[0m\n\u001b[0;32m--> 150\u001b[0;31m       \u001b[0;32mreturn\u001b[0m \u001b[0mfn\u001b[0m\u001b[0;34m(\u001b[0m\u001b[0;34m*\u001b[0m\u001b[0margs\u001b[0m\u001b[0;34m,\u001b[0m \u001b[0;34m**\u001b[0m\u001b[0mkwargs\u001b[0m\u001b[0;34m)\u001b[0m\u001b[0;34m\u001b[0m\u001b[0;34m\u001b[0m\u001b[0m\n\u001b[0m\u001b[1;32m    151\u001b[0m     \u001b[0;32mexcept\u001b[0m \u001b[0mException\u001b[0m \u001b[0;32mas\u001b[0m \u001b[0me\u001b[0m\u001b[0;34m:\u001b[0m\u001b[0;34m\u001b[0m\u001b[0;34m\u001b[0m\u001b[0m\n\u001b[1;32m    152\u001b[0m       \u001b[0mfiltered_tb\u001b[0m \u001b[0;34m=\u001b[0m \u001b[0m_process_traceback_frames\u001b[0m\u001b[0;34m(\u001b[0m\u001b[0me\u001b[0m\u001b[0;34m.\u001b[0m\u001b[0m__traceback__\u001b[0m\u001b[0;34m)\u001b[0m\u001b[0;34m\u001b[0m\u001b[0;34m\u001b[0m\u001b[0m\n",
            "\u001b[0;32m/usr/local/lib/python3.7/dist-packages/tensorflow/python/eager/def_function.py\u001b[0m in \u001b[0;36m__call__\u001b[0;34m(self, *args, **kwds)\u001b[0m\n\u001b[1;32m    913\u001b[0m \u001b[0;34m\u001b[0m\u001b[0m\n\u001b[1;32m    914\u001b[0m       \u001b[0;32mwith\u001b[0m \u001b[0mOptionalXlaContext\u001b[0m\u001b[0;34m(\u001b[0m\u001b[0mself\u001b[0m\u001b[0;34m.\u001b[0m\u001b[0m_jit_compile\u001b[0m\u001b[0;34m)\u001b[0m\u001b[0;34m:\u001b[0m\u001b[0;34m\u001b[0m\u001b[0;34m\u001b[0m\u001b[0m\n\u001b[0;32m--> 915\u001b[0;31m         \u001b[0mresult\u001b[0m \u001b[0;34m=\u001b[0m \u001b[0mself\u001b[0m\u001b[0;34m.\u001b[0m\u001b[0m_call\u001b[0m\u001b[0;34m(\u001b[0m\u001b[0;34m*\u001b[0m\u001b[0margs\u001b[0m\u001b[0;34m,\u001b[0m \u001b[0;34m**\u001b[0m\u001b[0mkwds\u001b[0m\u001b[0;34m)\u001b[0m\u001b[0;34m\u001b[0m\u001b[0;34m\u001b[0m\u001b[0m\n\u001b[0m\u001b[1;32m    916\u001b[0m \u001b[0;34m\u001b[0m\u001b[0m\n\u001b[1;32m    917\u001b[0m       \u001b[0mnew_tracing_count\u001b[0m \u001b[0;34m=\u001b[0m \u001b[0mself\u001b[0m\u001b[0;34m.\u001b[0m\u001b[0mexperimental_get_tracing_count\u001b[0m\u001b[0;34m(\u001b[0m\u001b[0;34m)\u001b[0m\u001b[0;34m\u001b[0m\u001b[0;34m\u001b[0m\u001b[0m\n",
            "\u001b[0;32m/usr/local/lib/python3.7/dist-packages/tensorflow/python/eager/def_function.py\u001b[0m in \u001b[0;36m_call\u001b[0;34m(self, *args, **kwds)\u001b[0m\n\u001b[1;32m    945\u001b[0m       \u001b[0;31m# In this case we have created variables on the first call, so we run the\u001b[0m\u001b[0;34m\u001b[0m\u001b[0;34m\u001b[0m\u001b[0;34m\u001b[0m\u001b[0m\n\u001b[1;32m    946\u001b[0m       \u001b[0;31m# defunned version which is guaranteed to never create variables.\u001b[0m\u001b[0;34m\u001b[0m\u001b[0;34m\u001b[0m\u001b[0;34m\u001b[0m\u001b[0m\n\u001b[0;32m--> 947\u001b[0;31m       \u001b[0;32mreturn\u001b[0m \u001b[0mself\u001b[0m\u001b[0;34m.\u001b[0m\u001b[0m_stateless_fn\u001b[0m\u001b[0;34m(\u001b[0m\u001b[0;34m*\u001b[0m\u001b[0margs\u001b[0m\u001b[0;34m,\u001b[0m \u001b[0;34m**\u001b[0m\u001b[0mkwds\u001b[0m\u001b[0;34m)\u001b[0m  \u001b[0;31m# pylint: disable=not-callable\u001b[0m\u001b[0;34m\u001b[0m\u001b[0;34m\u001b[0m\u001b[0m\n\u001b[0m\u001b[1;32m    948\u001b[0m     \u001b[0;32melif\u001b[0m \u001b[0mself\u001b[0m\u001b[0;34m.\u001b[0m\u001b[0m_stateful_fn\u001b[0m \u001b[0;32mis\u001b[0m \u001b[0;32mnot\u001b[0m \u001b[0;32mNone\u001b[0m\u001b[0;34m:\u001b[0m\u001b[0;34m\u001b[0m\u001b[0;34m\u001b[0m\u001b[0m\n\u001b[1;32m    949\u001b[0m       \u001b[0;31m# Release the lock early so that multiple threads can perform the call\u001b[0m\u001b[0;34m\u001b[0m\u001b[0;34m\u001b[0m\u001b[0;34m\u001b[0m\u001b[0m\n",
            "\u001b[0;32m/usr/local/lib/python3.7/dist-packages/tensorflow/python/eager/function.py\u001b[0m in \u001b[0;36m__call__\u001b[0;34m(self, *args, **kwargs)\u001b[0m\n\u001b[1;32m   2955\u001b[0m        filtered_flat_args) = self._maybe_define_function(args, kwargs)\n\u001b[1;32m   2956\u001b[0m     return graph_function._call_flat(\n\u001b[0;32m-> 2957\u001b[0;31m         filtered_flat_args, captured_inputs=graph_function.captured_inputs)  # pylint: disable=protected-access\n\u001b[0m\u001b[1;32m   2958\u001b[0m \u001b[0;34m\u001b[0m\u001b[0m\n\u001b[1;32m   2959\u001b[0m   \u001b[0;34m@\u001b[0m\u001b[0mproperty\u001b[0m\u001b[0;34m\u001b[0m\u001b[0;34m\u001b[0m\u001b[0m\n",
            "\u001b[0;32m/usr/local/lib/python3.7/dist-packages/tensorflow/python/eager/function.py\u001b[0m in \u001b[0;36m_call_flat\u001b[0;34m(self, args, captured_inputs, cancellation_manager)\u001b[0m\n\u001b[1;32m   1852\u001b[0m       \u001b[0;31m# No tape is watching; skip to running the function.\u001b[0m\u001b[0;34m\u001b[0m\u001b[0;34m\u001b[0m\u001b[0;34m\u001b[0m\u001b[0m\n\u001b[1;32m   1853\u001b[0m       return self._build_call_outputs(self._inference_function.call(\n\u001b[0;32m-> 1854\u001b[0;31m           ctx, args, cancellation_manager=cancellation_manager))\n\u001b[0m\u001b[1;32m   1855\u001b[0m     forward_backward = self._select_forward_and_backward_functions(\n\u001b[1;32m   1856\u001b[0m         \u001b[0margs\u001b[0m\u001b[0;34m,\u001b[0m\u001b[0;34m\u001b[0m\u001b[0;34m\u001b[0m\u001b[0m\n",
            "\u001b[0;32m/usr/local/lib/python3.7/dist-packages/tensorflow/python/eager/function.py\u001b[0m in \u001b[0;36mcall\u001b[0;34m(self, ctx, args, cancellation_manager)\u001b[0m\n\u001b[1;32m    502\u001b[0m               \u001b[0minputs\u001b[0m\u001b[0;34m=\u001b[0m\u001b[0margs\u001b[0m\u001b[0;34m,\u001b[0m\u001b[0;34m\u001b[0m\u001b[0;34m\u001b[0m\u001b[0m\n\u001b[1;32m    503\u001b[0m               \u001b[0mattrs\u001b[0m\u001b[0;34m=\u001b[0m\u001b[0mattrs\u001b[0m\u001b[0;34m,\u001b[0m\u001b[0;34m\u001b[0m\u001b[0;34m\u001b[0m\u001b[0m\n\u001b[0;32m--> 504\u001b[0;31m               ctx=ctx)\n\u001b[0m\u001b[1;32m    505\u001b[0m         \u001b[0;32melse\u001b[0m\u001b[0;34m:\u001b[0m\u001b[0;34m\u001b[0m\u001b[0;34m\u001b[0m\u001b[0m\n\u001b[1;32m    506\u001b[0m           outputs = execute.execute_with_cancellation(\n",
            "\u001b[0;32m/usr/local/lib/python3.7/dist-packages/tensorflow/python/eager/execute.py\u001b[0m in \u001b[0;36mquick_execute\u001b[0;34m(op_name, num_outputs, inputs, attrs, ctx, name)\u001b[0m\n\u001b[1;32m     53\u001b[0m     \u001b[0mctx\u001b[0m\u001b[0;34m.\u001b[0m\u001b[0mensure_initialized\u001b[0m\u001b[0;34m(\u001b[0m\u001b[0;34m)\u001b[0m\u001b[0;34m\u001b[0m\u001b[0;34m\u001b[0m\u001b[0m\n\u001b[1;32m     54\u001b[0m     tensors = pywrap_tfe.TFE_Py_Execute(ctx._handle, device_name, op_name,\n\u001b[0;32m---> 55\u001b[0;31m                                         inputs, attrs, num_outputs)\n\u001b[0m\u001b[1;32m     56\u001b[0m   \u001b[0;32mexcept\u001b[0m \u001b[0mcore\u001b[0m\u001b[0;34m.\u001b[0m\u001b[0m_NotOkStatusException\u001b[0m \u001b[0;32mas\u001b[0m \u001b[0me\u001b[0m\u001b[0;34m:\u001b[0m\u001b[0;34m\u001b[0m\u001b[0;34m\u001b[0m\u001b[0m\n\u001b[1;32m     57\u001b[0m     \u001b[0;32mif\u001b[0m \u001b[0mname\u001b[0m \u001b[0;32mis\u001b[0m \u001b[0;32mnot\u001b[0m \u001b[0;32mNone\u001b[0m\u001b[0;34m:\u001b[0m\u001b[0;34m\u001b[0m\u001b[0;34m\u001b[0m\u001b[0m\n",
            "\u001b[0;31mKeyboardInterrupt\u001b[0m: "
          ]
        }
      ]
    },
    {
      "cell_type": "markdown",
      "source": [
        "Deployment opportunities, once hyperparameters are finalized:\n",
        "1. DDW DL Bundle K80 GPU\n",
        "2. DDW DL Bundle V100 GPU\n",
        "3. TALC Cluster - bleh"
      ],
      "metadata": {
        "id": "BQ7gfmokWQyz"
      }
    }
  ]
}