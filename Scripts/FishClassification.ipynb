{
  "nbformat": 4,
  "nbformat_minor": 0,
  "metadata": {
    "colab": {
      "name": "FishClassification.ipynb",
      "provenance": [],
      "collapsed_sections": []
    },
    "kernelspec": {
      "name": "python3",
      "display_name": "Python 3"
    },
    "language_info": {
      "name": "python"
    },
    "accelerator": "GPU"
  },
  "cells": [
    {
      "cell_type": "code",
      "execution_count": 2,
      "metadata": {
        "id": "4km0ReLe1Dtr",
        "colab": {
          "base_uri": "https://localhost:8080/"
        },
        "outputId": "7d2120b0-7876-4e39-a505-7b2be2eee0d2"
      },
      "outputs": [
        {
          "output_type": "stream",
          "name": "stdout",
          "text": [
            "Drive already mounted at /content/drive; to attempt to forcibly remount, call drive.mount(\"/content/drive\", force_remount=True).\n",
            "/content/drive/MyDrive\n"
          ]
        }
      ],
      "source": [
        "import tensorflow as tf \n",
        "import os\n",
        "from random import shuffle\n",
        "\n",
        "# Loading data and navigating to proper directory\n",
        "from google.colab import drive\n",
        "drive.mount('/content/drive')\n",
        "%cd drive/MyDrive"
      ]
    },
    {
      "cell_type": "markdown",
      "source": [
        "1. Loading Data and Preprocessing"
      ],
      "metadata": {
        "id": "9Bym740s1nlG"
      }
    },
    {
      "cell_type": "code",
      "source": [
        "# 20% Validation Set, 80% Training Set\n",
        "train_generator = tf.keras.preprocessing.image.ImageDataGenerator(\n",
        "    preprocessing_function=tf.keras.applications.mobilenet_v2.preprocess_input,\n",
        "    validation_split=0.2 \n",
        ")\n",
        "\n",
        "test_generator = tf.keras.preprocessing.image.ImageDataGenerator(\n",
        "    preprocessing_function=tf.keras.applications.mobilenet_v2.preprocess_input\n",
        ")"
      ],
      "metadata": {
        "id": "0HFteFhy9SoO"
      },
      "execution_count": 4,
      "outputs": []
    },
    {
      "cell_type": "code",
      "source": [
        "train_images = train_generator.flow_from_directory(\n",
        "    directory= 'DataLoadTest',\n",
        "    target_size=(224, 224),\n",
        "    color_mode='rgb',\n",
        "    class_mode='categorical',\n",
        "    batch_size=32,\n",
        "    shuffle=True,\n",
        "    seed=42,\n",
        "    subset='training'\n",
        ")\n",
        "\n",
        "val_images = train_generator.flow_from_directory(\n",
        "    directory= 'DataLoadTest',\n",
        "    target_size=(224, 224),\n",
        "    color_mode='rgb',\n",
        "    class_mode='categorical',\n",
        "    batch_size=32,\n",
        "    shuffle=True,\n",
        "    seed=42,\n",
        "    subset='validation' # Will only take 20% of the total data as the validation data\n",
        ")\n",
        "\n",
        "# test_images = test_generator.flow_from_directory(\n",
        "#     directory= 'Actual Test Dir',\n",
        "#     target_size=(224, 224),\n",
        "#     color_mode='rgb',\n",
        "#     class_mode='categorical',\n",
        "#     batch_size=32,\n",
        "#     shuffle=True # I wonder why this was originally set to false\n",
        "# )"
      ],
      "metadata": {
        "id": "YCJxA9xS-94l",
        "colab": {
          "base_uri": "https://localhost:8080/"
        },
        "outputId": "1d48bf32-c3ec-4292-bed4-efbc761b8aad"
      },
      "execution_count": 5,
      "outputs": [
        {
          "output_type": "stream",
          "name": "stdout",
          "text": [
            "Found 344 images belonging to 9 classes.\n",
            "Found 86 images belonging to 9 classes.\n"
          ]
        }
      ]
    },
    {
      "cell_type": "code",
      "source": [
        "print(\"Training image shape:\", train_images.image_shape)\n",
        "print(\"Validation image shape:\", train_images.image_shape)"
      ],
      "metadata": {
        "colab": {
          "base_uri": "https://localhost:8080/"
        },
        "id": "0gM0NQ-wBJit",
        "outputId": "f74ae726-0aa5-453e-d53f-1bfc550687a1"
      },
      "execution_count": 8,
      "outputs": [
        {
          "output_type": "stream",
          "name": "stdout",
          "text": [
            "Training image shape: (224, 224, 3)\n",
            "Validation image shape: (224, 224, 3)\n"
          ]
        }
      ]
    },
    {
      "cell_type": "code",
      "source": [
        "train_images.class_indices"
      ],
      "metadata": {
        "colab": {
          "base_uri": "https://localhost:8080/"
        },
        "id": "HpBab0rRIkjx",
        "outputId": "ff6ec7d1-be1e-403b-9eab-6aa00a83ae2d"
      },
      "execution_count": 16,
      "outputs": [
        {
          "output_type": "execute_result",
          "data": {
            "text/plain": [
              "{'Black Sea Sprat': 0,\n",
              " 'Gilt Head Bream': 1,\n",
              " 'Horse Mackerel': 2,\n",
              " 'Red Mullet': 3,\n",
              " 'Red Sea Bream': 4,\n",
              " 'Sea Bass': 5,\n",
              " 'Shrimp': 6,\n",
              " 'Striped Red Mullet': 7,\n",
              " 'Trout': 8}"
            ]
          },
          "metadata": {},
          "execution_count": 16
        }
      ]
    },
    {
      "cell_type": "code",
      "source": [
        "val_images.class_indices"
      ],
      "metadata": {
        "colab": {
          "base_uri": "https://localhost:8080/"
        },
        "id": "zpssP4gHIrLE",
        "outputId": "5314ad4a-7ba5-4291-d10f-9ffe5a1d5b06"
      },
      "execution_count": 17,
      "outputs": [
        {
          "output_type": "execute_result",
          "data": {
            "text/plain": [
              "{'Black Sea Sprat': 0,\n",
              " 'Gilt Head Bream': 1,\n",
              " 'Horse Mackerel': 2,\n",
              " 'Red Mullet': 3,\n",
              " 'Red Sea Bream': 4,\n",
              " 'Sea Bass': 5,\n",
              " 'Shrimp': 6,\n",
              " 'Striped Red Mullet': 7,\n",
              " 'Trout': 8}"
            ]
          },
          "metadata": {},
          "execution_count": 17
        }
      ]
    },
    {
      "cell_type": "code",
      "source": [
        "train_images.filenames"
      ],
      "metadata": {
        "colab": {
          "base_uri": "https://localhost:8080/"
        },
        "id": "WvNpGFsaNiRS",
        "outputId": "13145ade-4f23-47a6-fbae-3f875a1cec53"
      },
      "execution_count": 18,
      "outputs": [
        {
          "output_type": "execute_result",
          "data": {
            "text/plain": [
              "['Black Sea Sprat/00011.png',\n",
              " 'Black Sea Sprat/00012.png',\n",
              " 'Black Sea Sprat/00013.png',\n",
              " 'Black Sea Sprat/00014.png',\n",
              " 'Black Sea Sprat/00015.png',\n",
              " 'Black Sea Sprat/00016.png',\n",
              " 'Black Sea Sprat/00017.png',\n",
              " 'Black Sea Sprat/00018.png',\n",
              " 'Black Sea Sprat/00019.png',\n",
              " 'Black Sea Sprat/00020.png',\n",
              " 'Black Sea Sprat/00021.png',\n",
              " 'Black Sea Sprat/00022.png',\n",
              " 'Black Sea Sprat/00023.png',\n",
              " 'Black Sea Sprat/00024.png',\n",
              " 'Black Sea Sprat/00025.png',\n",
              " 'Black Sea Sprat/00026.png',\n",
              " 'Black Sea Sprat/00027.png',\n",
              " 'Black Sea Sprat/00028.png',\n",
              " 'Black Sea Sprat/00029.png',\n",
              " 'Black Sea Sprat/00030.png',\n",
              " 'Black Sea Sprat/00031.png',\n",
              " 'Black Sea Sprat/00032.png',\n",
              " 'Black Sea Sprat/00033.png',\n",
              " 'Black Sea Sprat/00034.png',\n",
              " 'Black Sea Sprat/00035.png',\n",
              " 'Black Sea Sprat/00036.png',\n",
              " 'Black Sea Sprat/00037.png',\n",
              " 'Black Sea Sprat/00038.png',\n",
              " 'Black Sea Sprat/00039.png',\n",
              " 'Black Sea Sprat/00040.png',\n",
              " 'Black Sea Sprat/00041.png',\n",
              " 'Black Sea Sprat/00042.png',\n",
              " 'Black Sea Sprat/00043.png',\n",
              " 'Black Sea Sprat/00044.png',\n",
              " 'Black Sea Sprat/00045.png',\n",
              " 'Black Sea Sprat/00046.png',\n",
              " 'Black Sea Sprat/00047.png',\n",
              " 'Black Sea Sprat/00048.png',\n",
              " 'Black Sea Sprat/00049.png',\n",
              " 'Black Sea Sprat/00050.png',\n",
              " 'Gilt Head Bream/19.JPG',\n",
              " 'Gilt Head Bream/2.JPG',\n",
              " 'Gilt Head Bream/20.JPG',\n",
              " 'Gilt Head Bream/21.png',\n",
              " 'Gilt Head Bream/22.JPG',\n",
              " 'Gilt Head Bream/23.JPG',\n",
              " 'Gilt Head Bream/24.JPG',\n",
              " 'Gilt Head Bream/25.JPG',\n",
              " 'Gilt Head Bream/26.JPG',\n",
              " 'Gilt Head Bream/27.JPG',\n",
              " 'Gilt Head Bream/28.JPG',\n",
              " 'Gilt Head Bream/29.JPG',\n",
              " 'Gilt Head Bream/3.JPG',\n",
              " 'Gilt Head Bream/30.JPG',\n",
              " 'Gilt Head Bream/31.JPG',\n",
              " 'Gilt Head Bream/32.JPG',\n",
              " 'Gilt Head Bream/33.JPG',\n",
              " 'Gilt Head Bream/34.JPG',\n",
              " 'Gilt Head Bream/35.JPG',\n",
              " 'Gilt Head Bream/36.JPG',\n",
              " 'Gilt Head Bream/37.JPG',\n",
              " 'Gilt Head Bream/38.JPG',\n",
              " 'Gilt Head Bream/39.JPG',\n",
              " 'Gilt Head Bream/4.JPG',\n",
              " 'Gilt Head Bream/40.JPG',\n",
              " 'Gilt Head Bream/41.JPG',\n",
              " 'Gilt Head Bream/42.JPG',\n",
              " 'Gilt Head Bream/43.JPG',\n",
              " 'Gilt Head Bream/44.JPG',\n",
              " 'Gilt Head Bream/45.JPG',\n",
              " 'Gilt Head Bream/46.JPG',\n",
              " 'Gilt Head Bream/47.JPG',\n",
              " 'Gilt Head Bream/48.JPG',\n",
              " 'Gilt Head Bream/49.JPG',\n",
              " 'Gilt Head Bream/5.JPG',\n",
              " 'Gilt Head Bream/50.JPG',\n",
              " 'Gilt Head Bream/6.JPG',\n",
              " 'Gilt Head Bream/7.JPG',\n",
              " 'Gilt Head Bream/8.JPG',\n",
              " 'Gilt Head Bream/9.JPG',\n",
              " 'Horse Mackerel/00011.png',\n",
              " 'Horse Mackerel/00012.png',\n",
              " 'Horse Mackerel/00013.png',\n",
              " 'Horse Mackerel/00014.png',\n",
              " 'Horse Mackerel/00015.png',\n",
              " 'Horse Mackerel/00016.png',\n",
              " 'Horse Mackerel/00017.png',\n",
              " 'Horse Mackerel/00018.png',\n",
              " 'Horse Mackerel/00019.png',\n",
              " 'Horse Mackerel/00020.png',\n",
              " 'Horse Mackerel/00021.png',\n",
              " 'Horse Mackerel/00022.png',\n",
              " 'Horse Mackerel/00023.png',\n",
              " 'Horse Mackerel/00024.png',\n",
              " 'Horse Mackerel/00025.png',\n",
              " 'Horse Mackerel/00026.png',\n",
              " 'Horse Mackerel/00027.png',\n",
              " 'Horse Mackerel/00028.png',\n",
              " 'Horse Mackerel/00029.png',\n",
              " 'Horse Mackerel/00030.png',\n",
              " 'Horse Mackerel/00031.png',\n",
              " 'Horse Mackerel/00032.png',\n",
              " 'Horse Mackerel/00033.png',\n",
              " 'Horse Mackerel/00034.png',\n",
              " 'Horse Mackerel/00035.png',\n",
              " 'Horse Mackerel/00036.png',\n",
              " 'Horse Mackerel/00037.png',\n",
              " 'Horse Mackerel/00038.png',\n",
              " 'Horse Mackerel/00039.png',\n",
              " 'Horse Mackerel/00040.png',\n",
              " 'Horse Mackerel/00041.png',\n",
              " 'Horse Mackerel/00042.png',\n",
              " 'Horse Mackerel/00043.png',\n",
              " 'Horse Mackerel/00044.png',\n",
              " 'Horse Mackerel/00045.png',\n",
              " 'Horse Mackerel/00046.png',\n",
              " 'Horse Mackerel/00047.png',\n",
              " 'Horse Mackerel/00048.png',\n",
              " 'Horse Mackerel/00049.png',\n",
              " 'Horse Mackerel/00050.png',\n",
              " 'Red Mullet/00011.png',\n",
              " 'Red Mullet/00012.png',\n",
              " 'Red Mullet/00013.png',\n",
              " 'Red Mullet/00014.png',\n",
              " 'Red Mullet/00015.png',\n",
              " 'Red Mullet/00016.png',\n",
              " 'Red Mullet/00017.png',\n",
              " 'Red Mullet/00018.png',\n",
              " 'Red Mullet/00019.png',\n",
              " 'Red Mullet/00020.png',\n",
              " 'Red Mullet/00021.png',\n",
              " 'Red Mullet/00022.png',\n",
              " 'Red Mullet/00023.png',\n",
              " 'Red Mullet/00024.png',\n",
              " 'Red Mullet/00025.png',\n",
              " 'Red Mullet/00026.png',\n",
              " 'Red Mullet/00027.png',\n",
              " 'Red Mullet/00028.png',\n",
              " 'Red Mullet/00029.png',\n",
              " 'Red Mullet/00030.png',\n",
              " 'Red Mullet/00031.png',\n",
              " 'Red Mullet/00032.png',\n",
              " 'Red Mullet/00033.png',\n",
              " 'Red Mullet/00034.png',\n",
              " 'Red Mullet/00035.png',\n",
              " 'Red Mullet/00036.png',\n",
              " 'Red Mullet/00037.png',\n",
              " 'Red Mullet/00038.png',\n",
              " 'Red Mullet/00039.png',\n",
              " 'Red Mullet/00040.png',\n",
              " 'Red Mullet/00041.png',\n",
              " 'Red Mullet/00042.png',\n",
              " 'Red Mullet/00043.png',\n",
              " 'Red Mullet/00044.png',\n",
              " 'Red Mullet/00045.png',\n",
              " 'Red Mullet/00046.png',\n",
              " 'Red Mullet/00047.png',\n",
              " 'Red Mullet/00048.png',\n",
              " 'Red Mullet/00049.png',\n",
              " 'Red Mullet/00050.png',\n",
              " 'Red Sea Bream/100_1482.JPG',\n",
              " 'Red Sea Bream/100_1483.JPG',\n",
              " 'Red Sea Bream/100_1484.JPG',\n",
              " 'Red Sea Bream/100_1485.JPG',\n",
              " 'Red Sea Bream/100_1486.JPG',\n",
              " 'Red Sea Bream/100_1487.JPG',\n",
              " 'Red Sea Bream/100_1488.JPG',\n",
              " 'Red Sea Bream/100_1489.JPG',\n",
              " 'Red Sea Bream/SAM_5533.JPG',\n",
              " 'Red Sea Bream/SAM_5534.JPG',\n",
              " 'Red Sea Bream/SAM_5535.JPG',\n",
              " 'Red Sea Bream/SAM_5536.JPG',\n",
              " 'Red Sea Bream/SAM_5537.JPG',\n",
              " 'Red Sea Bream/SAM_5538.JPG',\n",
              " 'Red Sea Bream/SAM_5540.JPG',\n",
              " 'Red Sea Bream/SAM_5543.JPG',\n",
              " 'Red Sea Bream/SAM_5544.JPG',\n",
              " 'Red Sea Bream/SAM_5545.JPG',\n",
              " 'Red Sea Bream/SAM_5547.JPG',\n",
              " 'Red Sea Bream/SAM_5549.JPG',\n",
              " 'Red Sea Bream/SAM_5550.JPG',\n",
              " 'Red Sea Bream/SAM_5551.JPG',\n",
              " 'Red Sea Bream/SAM_5552.JPG',\n",
              " 'Red Sea Bream/SAM_5554.JPG',\n",
              " 'Red Sea Bream/SAM_5555.JPG',\n",
              " 'Red Sea Bream/SAM_5557.JPG',\n",
              " 'Red Sea Bream/SAM_5558.JPG',\n",
              " 'Red Sea Bream/SAM_5561.JPG',\n",
              " 'Red Sea Bream/SAM_5564.JPG',\n",
              " 'Red Sea Bream/SAM_5565.JPG',\n",
              " 'Red Sea Bream/SAM_5568.JPG',\n",
              " 'Red Sea Bream/SAM_5569.JPG',\n",
              " 'Red Sea Bream/SAM_5571.JPG',\n",
              " 'Red Sea Bream/SAM_5573.JPG',\n",
              " 'Red Sea Bream/SAM_5575.JPG',\n",
              " 'Red Sea Bream/SAM_5577.JPG',\n",
              " 'Red Sea Bream/SAM_5581.JPG',\n",
              " 'Red Sea Bream/SAM_5582.JPG',\n",
              " 'Red Sea Bream/SAM_5583.JPG',\n",
              " 'Red Sea Bream/WhatsApp Image 2019-04-25 at 15.33.13.jpeg',\n",
              " 'Sea Bass/19.JPG',\n",
              " 'Sea Bass/2.JPG',\n",
              " 'Sea Bass/20.JPG',\n",
              " 'Sea Bass/21.JPG',\n",
              " 'Sea Bass/22.JPG',\n",
              " 'Sea Bass/23.JPG',\n",
              " 'Sea Bass/24.JPG',\n",
              " 'Sea Bass/25.JPG',\n",
              " 'Sea Bass/26.JPG',\n",
              " 'Sea Bass/27.JPG',\n",
              " 'Sea Bass/28.JPG',\n",
              " 'Sea Bass/29.JPG',\n",
              " 'Sea Bass/3.JPG',\n",
              " 'Sea Bass/30.JPG',\n",
              " 'Sea Bass/31.JPG',\n",
              " 'Sea Bass/32.JPG',\n",
              " 'Sea Bass/33.JPG',\n",
              " 'Sea Bass/34.JPG',\n",
              " 'Sea Bass/35.JPG',\n",
              " 'Sea Bass/36.JPG',\n",
              " 'Sea Bass/37.JPG',\n",
              " 'Sea Bass/38.JPG',\n",
              " 'Sea Bass/39.JPG',\n",
              " 'Sea Bass/4.JPG',\n",
              " 'Sea Bass/40.JPG',\n",
              " 'Sea Bass/41.JPG',\n",
              " 'Sea Bass/42.JPG',\n",
              " 'Sea Bass/43.JPG',\n",
              " 'Sea Bass/44.JPG',\n",
              " 'Sea Bass/45.JPG',\n",
              " 'Sea Bass/46.JPG',\n",
              " 'Sea Bass/47.JPG',\n",
              " 'Sea Bass/48.JPG',\n",
              " 'Sea Bass/49.JPG',\n",
              " 'Sea Bass/5.JPG',\n",
              " 'Sea Bass/50.JPG',\n",
              " 'Sea Bass/6.JPG',\n",
              " 'Sea Bass/7.JPG',\n",
              " 'Sea Bass/8.JPG',\n",
              " 'Sea Bass/9.JPG',\n",
              " 'Shrimp/00011.png',\n",
              " 'Shrimp/00012.png',\n",
              " 'Shrimp/00013.png',\n",
              " 'Shrimp/00014.png',\n",
              " 'Shrimp/00015.png',\n",
              " 'Shrimp/00016.png',\n",
              " 'Shrimp/00017.png',\n",
              " 'Shrimp/00018.png',\n",
              " 'Shrimp/00019.png',\n",
              " 'Shrimp/00020.png',\n",
              " 'Shrimp/00021.png',\n",
              " 'Shrimp/00022.png',\n",
              " 'Shrimp/00023.png',\n",
              " 'Shrimp/00024.png',\n",
              " 'Shrimp/00025.png',\n",
              " 'Shrimp/00026.png',\n",
              " 'Shrimp/00027.png',\n",
              " 'Shrimp/00028.png',\n",
              " 'Shrimp/00029.png',\n",
              " 'Shrimp/00030.png',\n",
              " 'Shrimp/00031.png',\n",
              " 'Shrimp/00032.png',\n",
              " 'Shrimp/00033.png',\n",
              " 'Shrimp/00034.png',\n",
              " 'Shrimp/00035.png',\n",
              " 'Shrimp/00036.png',\n",
              " 'Shrimp/00037.png',\n",
              " 'Shrimp/00038.png',\n",
              " 'Shrimp/00039.png',\n",
              " 'Shrimp/00040.png',\n",
              " 'Shrimp/00041.png',\n",
              " 'Shrimp/00042.png',\n",
              " 'Shrimp/00043.png',\n",
              " 'Shrimp/00044.png',\n",
              " 'Shrimp/00045.png',\n",
              " 'Shrimp/00046.png',\n",
              " 'Shrimp/00047.png',\n",
              " 'Shrimp/00048.png',\n",
              " 'Shrimp/00049.png',\n",
              " 'Shrimp/00050.png',\n",
              " 'Striped Red Mullet/00011.png',\n",
              " 'Striped Red Mullet/00012.png',\n",
              " 'Striped Red Mullet/00013.png',\n",
              " 'Striped Red Mullet/00014.png',\n",
              " 'Striped Red Mullet/00015.png',\n",
              " 'Striped Red Mullet/00016.png',\n",
              " 'Striped Red Mullet/00017.png',\n",
              " 'Striped Red Mullet/00018.png',\n",
              " 'Striped Red Mullet/00019.png',\n",
              " 'Striped Red Mullet/00020.png',\n",
              " 'Striped Red Mullet/00021.png',\n",
              " 'Striped Red Mullet/00022.png',\n",
              " 'Striped Red Mullet/00023.png',\n",
              " 'Striped Red Mullet/00024.png',\n",
              " 'Striped Red Mullet/00025.png',\n",
              " 'Striped Red Mullet/00026.png',\n",
              " 'Striped Red Mullet/00027.png',\n",
              " 'Striped Red Mullet/00028.png',\n",
              " 'Striped Red Mullet/00029.png',\n",
              " 'Striped Red Mullet/00030.png',\n",
              " 'Striped Red Mullet/00031.png',\n",
              " 'Striped Red Mullet/00032.png',\n",
              " 'Striped Red Mullet/00033.png',\n",
              " 'Striped Red Mullet/00034.png',\n",
              " 'Striped Red Mullet/00035.png',\n",
              " 'Striped Red Mullet/00036.png',\n",
              " 'Striped Red Mullet/00037.png',\n",
              " 'Striped Red Mullet/00038.png',\n",
              " 'Striped Red Mullet/00039.png',\n",
              " 'Striped Red Mullet/00040.png',\n",
              " 'Striped Red Mullet/00041.png',\n",
              " 'Striped Red Mullet/00042.png',\n",
              " 'Striped Red Mullet/00043.png',\n",
              " 'Striped Red Mullet/00044.png',\n",
              " 'Striped Red Mullet/00045.png',\n",
              " 'Striped Red Mullet/00046.png',\n",
              " 'Striped Red Mullet/00047.png',\n",
              " 'Striped Red Mullet/00048.png',\n",
              " 'Striped Red Mullet/00049.png',\n",
              " 'Striped Red Mullet/00050.png',\n",
              " 'Trout/00007.png',\n",
              " 'Trout/00008.png',\n",
              " 'Trout/00009.png',\n",
              " 'Trout/00010.png',\n",
              " 'Trout/00011.png',\n",
              " 'Trout/00012.png',\n",
              " 'Trout/00013.png',\n",
              " 'Trout/00014.png',\n",
              " 'Trout/00015.png',\n",
              " 'Trout/00016.png',\n",
              " 'Trout/00017.png',\n",
              " 'Trout/00018.png',\n",
              " 'Trout/00019.png',\n",
              " 'Trout/00020.png',\n",
              " 'Trout/00021.png',\n",
              " 'Trout/00022.png',\n",
              " 'Trout/00023.png',\n",
              " 'Trout/00024.png',\n",
              " 'Trout/00025.png',\n",
              " 'Trout/00026.png',\n",
              " 'Trout/00027.png',\n",
              " 'Trout/00028.png',\n",
              " 'Trout/00029.png',\n",
              " 'Trout/00030.png']"
            ]
          },
          "metadata": {},
          "execution_count": 18
        }
      ]
    },
    {
      "cell_type": "code",
      "source": [
        ""
      ],
      "metadata": {
        "id": "pB_UJG23NlUj"
      },
      "execution_count": null,
      "outputs": []
    }
  ]
}