{
 "cells": [
  {
   "cell_type": "code",
   "execution_count": 1,
   "metadata": {
    "colab": {
     "base_uri": "https://localhost:8080/"
    },
    "id": "4km0ReLe1Dtr",
    "outputId": "95551279-0348-4a3e-8302-c633ac072e41"
   },
   "outputs": [
    {
     "name": "stderr",
     "output_type": "stream",
     "text": [
      "2022-03-20 20:56:58.797014: I tensorflow/stream_executor/platform/default/dso_loader.cc:49] Successfully opened dynamic library libcudart.so.10.1\n"
     ]
    },
    {
     "name": "stdout",
     "output_type": "stream",
     "text": [
      "/root/fish_class/ENEL645_FinalProject_FishClassification/Scripts\n"
     ]
    }
   ],
   "source": [
    "import tensorflow as tf \n",
    "import os\n",
    "from random import shuffle\n",
    "import numpy as np\n",
    "os.environ[\"TF_FORCE_GPU_ALLOW_GROWTH\"] = \"true\""
   ]
  },
  {
   "cell_type": "code",
   "execution_count": 2,
   "metadata": {},
   "outputs": [
    {
     "name": "stdout",
     "output_type": "stream",
     "text": [
      "working directory: /root/fish_class\n",
      "/root/fish_class\n"
     ]
    }
   ],
   "source": [
    "os.chdir('/root/fish_class')\n",
    "working_directory = os.getcwd()\n",
    "print(\"working directory:\", working_directory)"
   ]
  },
  {
   "cell_type": "markdown",
   "metadata": {
    "id": "9Bym740s1nlG"
   },
   "source": [
    "1. Loading Data and Preprocessing"
   ]
  },
  {
   "cell_type": "code",
   "execution_count": 58,
   "metadata": {
    "id": "0HFteFhy9SoO"
   },
   "outputs": [],
   "source": [
    "train_generator = tf.keras.preprocessing.image.ImageDataGenerator(\n",
    "    rescale=1./255, # min-max Normalization, shifting pixel value to [0,1], max 255 to max of 1 (domain shift)\n",
    "    validation_split=0.10\n",
    ")\n",
    "\n",
    "test_generator = tf.keras.preprocessing.image.ImageDataGenerator(                                                    \n",
    "    rescale=1./255 # Apply same normalization, not performing other preprocessing steps\n",
    ")\n"
   ]
  },
  {
   "cell_type": "code",
   "execution_count": 59,
   "metadata": {
    "colab": {
     "base_uri": "https://localhost:8080/",
     "height": 235
    },
    "id": "YCJxA9xS-94l",
    "outputId": "5aa0cea5-32f3-46c3-9310-cb737a003196"
   },
   "outputs": [
    {
     "name": "stdout",
     "output_type": "stream",
     "text": [
      "Found 8117 images belonging to 9 classes.\n",
      "Found 900 images belonging to 9 classes.\n",
      "Found 492 images belonging to 9 classes.\n"
     ]
    }
   ],
   "source": [
    "train_images = train_generator.flow_from_directory(\n",
    "    directory= './Data/Train_Val',\n",
    "    target_size=(224, 224),\n",
    "    color_mode='rgb',\n",
    "    class_mode='categorical',\n",
    "    batch_size=32,\n",
    "    shuffle=True,\n",
    "    seed=42,\n",
    "    subset='training'\n",
    ")\n",
    "\n",
    "val_images = train_generator.flow_from_directory(\n",
    "    directory= './Data/Train_Val',\n",
    "    target_size=(224, 224),\n",
    "    color_mode='rgb',\n",
    "    class_mode='categorical',\n",
    "    batch_size=32,\n",
    "    shuffle=True,\n",
    "    seed=42,\n",
    "    subset='validation' # Will only take 20% of the total data as the validation data\n",
    ")\n",
    "\n",
    "test_images = test_generator.flow_from_directory(\n",
    "    directory= './Data/Test',\n",
    "    target_size=(224, 224),\n",
    "    color_mode='rgb',\n",
    "    class_mode='categorical',\n",
    "    batch_size=32,\n",
    "    shuffle=False, # We need to be able to generate metrics at the end\n",
    "    seed=42\n",
    ")"
   ]
  },
  {
   "cell_type": "code",
   "execution_count": 60,
   "metadata": {
    "colab": {
     "base_uri": "https://localhost:8080/"
    },
    "id": "0gM0NQ-wBJit",
    "outputId": "59e36998-f2ad-4241-dbdb-c3449823efd3"
   },
   "outputs": [
    {
     "name": "stdout",
     "output_type": "stream",
     "text": [
      "Training image shape: (224, 224, 3)\n",
      "Validation image shape: (224, 224, 3)\n",
      "Test image shape: (224, 224, 3)\n"
     ]
    }
   ],
   "source": [
    "print(\"Training image shape:\", train_images.image_shape)\n",
    "print(\"Validation image shape:\", val_images.image_shape)\n",
    "print(\"Test image shape:\", test_images.image_shape)"
   ]
  },
  {
   "cell_type": "code",
   "execution_count": 61,
   "metadata": {
    "colab": {
     "base_uri": "https://localhost:8080/"
    },
    "id": "HpBab0rRIkjx",
    "outputId": "d83e7d17-01df-4b71-b7eb-657a4630f026"
   },
   "outputs": [
    {
     "data": {
      "text/plain": [
       "{'Black Sea Sprat': 0,\n",
       " 'Gilt-Head Bream': 1,\n",
       " 'Hourse Mackerel': 2,\n",
       " 'Red Mullet': 3,\n",
       " 'Red Sea Bream': 4,\n",
       " 'Sea Bass': 5,\n",
       " 'Shrimp': 6,\n",
       " 'Striped Red Mullet': 7,\n",
       " 'Trout': 8}"
      ]
     },
     "execution_count": 73,
     "metadata": {},
     "output_type": "execute_result"
    }
   ],
   "source": [
    "train_images.class_indices"
   ]
  },
  {
   "cell_type": "code",
   "execution_count": 62,
   "metadata": {
    "colab": {
     "base_uri": "https://localhost:8080/"
    },
    "id": "zpssP4gHIrLE",
    "outputId": "1bc788b9-dcea-4e00-b67f-19eb3a0c5bca"
   },
   "outputs": [
    {
     "data": {
      "text/plain": [
       "{'Black Sea Sprat': 0,\n",
       " 'Gilt-Head Bream': 1,\n",
       " 'Hourse Mackerel': 2,\n",
       " 'Red Mullet': 3,\n",
       " 'Red Sea Bream': 4,\n",
       " 'Sea Bass': 5,\n",
       " 'Shrimp': 6,\n",
       " 'Striped Red Mullet': 7,\n",
       " 'Trout': 8}"
      ]
     },
     "execution_count": 74,
     "metadata": {},
     "output_type": "execute_result"
    }
   ],
   "source": [
    "val_images.class_indices"
   ]
  },
  {
   "cell_type": "code",
   "execution_count": 63,
   "metadata": {
    "colab": {
     "base_uri": "https://localhost:8080/"
    },
    "id": "WvNpGFsaNiRS",
    "outputId": "d75e9cf6-0dcb-4c33-9dfc-757692f120e6"
   },
   "outputs": [
    {
     "data": {
      "text/plain": [
       "{'Black Sea Sprat': 0,\n",
       " 'Gilt Head Bream': 1,\n",
       " 'Horse Mackerel': 2,\n",
       " 'Red Mullet': 3,\n",
       " 'Red Sea Bream': 4,\n",
       " 'Sea Bass': 5,\n",
       " 'Shrimp': 6,\n",
       " 'Striped Red Mullet': 7,\n",
       " 'Trout': 8}"
      ]
     },
     "execution_count": 75,
     "metadata": {},
     "output_type": "execute_result"
    }
   ],
   "source": [
    "test_images.class_indices"
   ]
  },
  {
   "cell_type": "code",
   "execution_count": 64,
   "metadata": {
    "id": "RKpgdmcbw7ZS"
   },
   "outputs": [],
   "source": [
    "import tensorflow.keras\n",
    "from tensorflow.keras.models import Model\n",
    "from tensorflow.keras.layers import Dense, Conv2D, MaxPool2D, Flatten, Dropout, Input, BatchNormalization\n",
    "from tensorflow.keras.callbacks import ModelCheckpoint, EarlyStopping, ReduceLROnPlateau"
   ]
  },
  {
   "cell_type": "markdown",
   "metadata": {
    "id": "Y8tJFnmZxE_Q"
   },
   "source": [
    "2. Defining VGG16 (CNN) Architecture"
   ]
  },
  {
   "cell_type": "code",
   "execution_count": 92,
   "metadata": {
    "colab": {
     "base_uri": "https://localhost:8080/"
    },
    "id": "pB_UJG23NlUj",
    "outputId": "973be7af-8041-4b27-a8e0-8862d2252ca3"
   },
   "outputs": [
    {
     "name": "stdout",
     "output_type": "stream",
     "text": [
      "Model: \"model_14\"\n",
      "_________________________________________________________________\n",
      "Layer (type)                 Output Shape              Param #   \n",
      "=================================================================\n",
      "input_15 (InputLayer)        [(None, 224, 224, 3)]     0         \n",
      "_________________________________________________________________\n",
      "conv2d_69 (Conv2D)           (None, 222, 222, 32)      896       \n",
      "_________________________________________________________________\n",
      "max_pooling2d_57 (MaxPooling (None, 111, 111, 32)      0         \n",
      "_________________________________________________________________\n",
      "conv2d_70 (Conv2D)           (None, 109, 109, 64)      18496     \n",
      "_________________________________________________________________\n",
      "max_pooling2d_58 (MaxPooling (None, 54, 54, 64)        0         \n",
      "_________________________________________________________________\n",
      "conv2d_71 (Conv2D)           (None, 52, 52, 128)       73856     \n",
      "_________________________________________________________________\n",
      "max_pooling2d_59 (MaxPooling (None, 26, 26, 128)       0         \n",
      "_________________________________________________________________\n",
      "flatten_14 (Flatten)         (None, 86528)             0         \n",
      "_________________________________________________________________\n",
      "dense_30 (Dense)             (None, 64)                5537856   \n",
      "_________________________________________________________________\n",
      "dropout_16 (Dropout)         (None, 64)                0         \n",
      "_________________________________________________________________\n",
      "dense_31 (Dense)             (None, 9)                 585       \n",
      "=================================================================\n",
      "Total params: 5,631,689\n",
      "Trainable params: 5,631,689\n",
      "Non-trainable params: 0\n",
      "_________________________________________________________________\n"
     ]
    }
   ],
   "source": [
    "# Novel model - add descriptive layer names?\n",
    "input = Input(shape =(224,224,3))\n",
    "l1 = Conv2D(filters=32, kernel_size=(3, 3), activation='relu', kernel_regularizer=tf.keras.regularizers.l2(l=0.01))(input)\n",
    "l2 = MaxPool2D(2,2)(l1)\n",
    "\n",
    "l3 = Conv2D(filters=64, kernel_size=(3, 3), activation='relu', kernel_regularizer=tf.keras.regularizers.l2(l=0.01))(l2)\n",
    "l4 = MaxPool2D(2,2)(l3)\n",
    "\n",
    "l5 = Conv2D(filters=128, kernel_size=(3, 3), activation='relu', kernel_regularizer=tf.keras.regularizers.l2(l=0.01))(l4)\n",
    "l6 = MaxPool2D(2,2)(l5)\n",
    "\n",
    "l7 = Flatten()(l6)\n",
    "l8 = Dense(64, activation='relu')(l7)\n",
    "l9 = Dropout(0.2)(l8)\n",
    "output = Dense(9, activation='softmax')(l9)\n",
    "model = Model (inputs=input, outputs=output)\n",
    "\n",
    "optimizer = tf.keras.optimizers.Adam(learning_rate=0.001)\n",
    "\n",
    "model.compile(\n",
    "    optimizer=optimizer,\n",
    "    loss='categorical_crossentropy',\n",
    "    metrics=['accuracy']\n",
    ")\n",
    "\n",
    "model.summary()"
   ]
  },
  {
   "cell_type": "markdown",
   "metadata": {
    "id": "7jg-ixS3xn0e"
   },
   "source": [
    "3. Defining Schedulers and Callbacks"
   ]
  },
  {
   "cell_type": "code",
   "execution_count": 93,
   "metadata": {
    "id": "sKzgcZxvxnf1",
    "tags": []
   },
   "outputs": [],
   "source": [
    "early_stop = tf.keras.callbacks.EarlyStopping(monitor='val_loss', patience = 10) # Fine tune\n",
    "checkpoint_path = \"ENEL645_FinalProject_FishClassification/training_2_rof/cp.ckpt\"\n",
    "monitor = tf.keras.callbacks.ModelCheckpoint(filepath=checkpoint_path, monitor='val_loss',\n",
    "                                             verbose=1,save_best_only=True,\n",
    "                                             save_weights_only=True,\n",
    "                                             mode='min') # Only saves the best model (so far) in terms of min validation loss\n",
    "\n",
    "lr_schedule = ReduceLROnPlateau(monitor='val_loss', mode='min', factor=0.1, patience=3, min_lr=0.0000001, verbose=1)\n",
    "callbacks = [early_stop, monitor, lr_schedule]"
   ]
  },
  {
   "cell_type": "markdown",
   "metadata": {
    "id": "9QwjzSdOTT5Y"
   },
   "source": [
    "4. Training Model"
   ]
  },
  {
   "cell_type": "code",
   "execution_count": null,
   "metadata": {
    "colab": {
     "base_uri": "https://localhost:8080/",
     "height": 380
    },
    "id": "4xH3sWvIz_k5",
    "outputId": "1004d632-3755-4602-dea2-ddbddf9afe0e"
   },
   "outputs": [
    {
     "name": "stdout",
     "output_type": "stream",
     "text": [
      "Epoch 1/50\n",
      "254/254 [==============================] - 96s 376ms/step - loss: 2.2940 - accuracy: 0.3977 - val_loss: 1.1073 - val_accuracy: 0.7011\n",
      "\n",
      "Epoch 00001: val_loss improved from inf to 1.10732, saving model to ENEL645_FinalProject_FishClassification/training_2_rof/cp.ckpt\n",
      "Epoch 2/50\n",
      "254/254 [==============================] - 94s 370ms/step - loss: 0.8542 - accuracy: 0.7936 - val_loss: 0.6718 - val_accuracy: 0.8500\n",
      "\n",
      "Epoch 00002: val_loss improved from 1.10732 to 0.67181, saving model to ENEL645_FinalProject_FishClassification/training_2_rof/cp.ckpt\n",
      "Epoch 3/50\n",
      "254/254 [==============================] - 94s 370ms/step - loss: 0.5203 - accuracy: 0.8961 - val_loss: 1.0548 - val_accuracy: 0.6967\n",
      "\n",
      "Epoch 00003: val_loss did not improve from 0.67181\n",
      "Epoch 4/50\n",
      "254/254 [==============================] - 94s 368ms/step - loss: 0.4529 - accuracy: 0.9144 - val_loss: 0.6167 - val_accuracy: 0.8611\n",
      "\n",
      "Epoch 00004: val_loss improved from 0.67181 to 0.61669, saving model to ENEL645_FinalProject_FishClassification/training_2_rof/cp.ckpt\n",
      "Epoch 5/50\n",
      "254/254 [==============================] - 94s 368ms/step - loss: 0.3471 - accuracy: 0.9423 - val_loss: 0.4826 - val_accuracy: 0.8933\n",
      "\n",
      "Epoch 00005: val_loss improved from 0.61669 to 0.48264, saving model to ENEL645_FinalProject_FishClassification/training_2_rof/cp.ckpt\n",
      "Epoch 6/50\n",
      "254/254 [==============================] - 94s 370ms/step - loss: 0.3102 - accuracy: 0.9500 - val_loss: 0.4005 - val_accuracy: 0.9156\n",
      "\n",
      "Epoch 00006: val_loss improved from 0.48264 to 0.40054, saving model to ENEL645_FinalProject_FishClassification/training_2_rof/cp.ckpt\n",
      "Epoch 7/50\n",
      "254/254 [==============================] - 94s 369ms/step - loss: 0.2725 - accuracy: 0.9631 - val_loss: 0.4332 - val_accuracy: 0.9144\n",
      "\n",
      "Epoch 00007: val_loss did not improve from 0.40054\n",
      "Epoch 8/50\n",
      "254/254 [==============================] - 94s 369ms/step - loss: 0.2515 - accuracy: 0.9629 - val_loss: 0.4141 - val_accuracy: 0.9156\n",
      "\n",
      "Epoch 00008: val_loss did not improve from 0.40054\n",
      "Epoch 9/50\n",
      "254/254 [==============================] - 95s 374ms/step - loss: 0.2292 - accuracy: 0.9663 - val_loss: 0.6168 - val_accuracy: 0.8756\n",
      "\n",
      "Epoch 00009: val_loss did not improve from 0.40054\n",
      "\n",
      "Epoch 00009: ReduceLROnPlateau reducing learning rate to 0.00010000000474974513.\n",
      "Epoch 10/50\n",
      "254/254 [==============================] - 94s 371ms/step - loss: 0.1950 - accuracy: 0.9811 - val_loss: 0.3205 - val_accuracy: 0.9289\n",
      "\n",
      "Epoch 00010: val_loss improved from 0.40054 to 0.32050, saving model to ENEL645_FinalProject_FishClassification/training_2_rof/cp.ckpt\n",
      "Epoch 11/50\n",
      " 30/254 [==>...........................] - ETA: 1:15 - loss: 0.1773 - accuracy: 0.9862"
     ]
    }
   ],
   "source": [
    "history = model.fit(\n",
    "    train_images, \n",
    "    validation_data=val_images, \n",
    "    epochs=50, # Fine tune\n",
    "    callbacks=callbacks\n",
    ")"
   ]
  },
  {
   "cell_type": "code",
   "execution_count": 132,
   "metadata": {},
   "outputs": [],
   "source": [
    "np.save('ENEL645_FinalProject_FishClassification/history.npy', history.history)"
   ]
  },
  {
   "cell_type": "code",
   "execution_count": null,
   "metadata": {},
   "outputs": [],
   "source": [
    "model.save('ENEL645_FinalProject_FishClassification/Model_rof')"
   ]
  },
  {
   "cell_type": "code",
   "execution_count": null,
   "metadata": {},
   "outputs": [],
   "source": [
    "print(\"\\n************************ COMPLETED TRAINING ************************\")"
   ]
  },
  {
   "cell_type": "markdown",
   "metadata": {},
   "source": [
    "5. Loading Best Model and Testing"
   ]
  },
  {
   "cell_type": "code",
   "execution_count": 89,
   "metadata": {},
   "outputs": [
    {
     "data": {
      "text/plain": [
       "<tensorflow.python.training.tracking.util.CheckpointLoadStatus at 0x7f29b9115dc0>"
      ]
     },
     "execution_count": 89,
     "metadata": {},
     "output_type": "execute_result"
    }
   ],
   "source": [
    "model.load_weights(checkpoint_path)"
   ]
  },
  {
   "cell_type": "code",
   "execution_count": 133,
   "metadata": {},
   "outputs": [
    {
     "name": "stdout",
     "output_type": "stream",
     "text": [
      "Best training results:\n",
      " {'loss': [1.1101419925689697], 'accuracy': [0.6045737862586975], 'val_loss': [1.1468136310577393], 'val_accuracy': [0.5604883432388306], 'lr': [1e-04]}\n"
     ]
    }
   ],
   "source": [
    "history=np.load('ENEL645_FinalProject_FishClassification/history.npy', allow_pickle='TRUE').item()\n",
    "print(\"Best training results:\\n\", history)"
   ]
  },
  {
   "cell_type": "code",
   "execution_count": 90,
   "metadata": {},
   "outputs": [
    {
     "name": "stdout",
     "output_type": "stream",
     "text": [
      "16/16 [==============================] - 27s 2s/step - loss: 3.2856 - accuracy: 0.3984\n",
      "Categorical Cross Entropy: 3.28556\n",
      "Test Accuracy: 39.84%\n"
     ]
    }
   ],
   "source": [
    "results = model.evaluate(test_images, verbose=1)\n",
    "\n",
    "print(\"Categorical Cross Entropy: {:.5f}\".format(results[0]))\n",
    "print(\"Test Accuracy: {:.2f}%\".format(results[1] * 100))"
   ]
  },
  {
   "cell_type": "code",
   "execution_count": null,
   "metadata": {},
   "outputs": [],
   "source": [
    "print(\"\\n************************ COMPLETED TESTING ************************\")"
   ]
  }
 ],
 "metadata": {
  "accelerator": "GPU",
  "colab": {
   "collapsed_sections": [],
   "name": "FishClassification.ipynb",
   "provenance": []
  },
  "kernelspec": {
   "display_name": "Python [conda env:tensorflow]",
   "language": "python",
   "name": "conda-env-tensorflow-py"
  },
  "language_info": {
   "codemirror_mode": {
    "name": "ipython",
    "version": 3
   },
   "file_extension": ".py",
   "mimetype": "text/x-python",
   "name": "python",
   "nbconvert_exporter": "python",
   "pygments_lexer": "ipython3",
   "version": "3.9.7"
  }
 },
 "nbformat": 4,
 "nbformat_minor": 4
}
