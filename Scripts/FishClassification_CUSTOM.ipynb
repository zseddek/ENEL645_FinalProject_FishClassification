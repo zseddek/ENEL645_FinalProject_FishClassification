{
 "cells": [
  {
   "cell_type": "code",
   "execution_count": 27,
   "metadata": {
    "colab": {
     "base_uri": "https://localhost:8080/"
    },
    "id": "4km0ReLe1Dtr",
    "outputId": "95551279-0348-4a3e-8302-c633ac072e41"
   },
   "outputs": [],
   "source": [
    "import tensorflow as tf \n",
    "import os\n",
    "from random import shuffle\n",
    "import numpy as np\n",
    "import os.path\n",
    "from pathlib import Path\n",
    "import pandas as pd\n",
    "from sklearn.model_selection import train_test_split"
   ]
  },
  {
   "cell_type": "code",
   "execution_count": 28,
   "metadata": {},
   "outputs": [
    {
     "name": "stdout",
     "output_type": "stream",
     "text": [
      "working directory: /data\n"
     ]
    }
   ],
   "source": [
    "os.chdir('/data')\n",
    "working_directory = os.getcwd()\n",
    "print(\"working directory:\", working_directory)"
   ]
  },
  {
   "cell_type": "markdown",
   "metadata": {
    "id": "9Bym740s1nlG"
   },
   "source": [
    "1. Loading Data and Preprocessing"
   ]
  },
  {
   "cell_type": "code",
   "execution_count": 29,
   "metadata": {},
   "outputs": [],
   "source": [
    "def make_image_df(folder):\n",
    "    test_image_dir = Path('fish_data/'+folder)\n",
    "    test_filepaths = list(test_image_dir.glob(r'*/*.*'))\n",
    "    test_labels = list(map(lambda x: os.path.split(os.path.split(x)[0])[1], test_filepaths))\n",
    "\n",
    "    test_filepaths = pd.Series(test_filepaths, name='Filepath').astype(str)\n",
    "    test_labels = pd.Series(test_labels, name='Label')\n",
    "    test_image_df = pd.concat([test_filepaths, test_labels], axis=1)\n",
    "    return test_image_df\n",
    "\n",
    "test_df = make_image_df('Test')\n",
    "dev_df = make_image_df('Train_Val')\n",
    "total_df = pd.concat([dev_df, test_df], axis=0)"
   ]
  },
  {
   "cell_type": "code",
   "execution_count": 30,
   "metadata": {},
   "outputs": [
    {
     "name": "stdout",
     "output_type": "stream",
     "text": [
      "                                            Filepath            Label\n",
      "0           fish_data/Test/Black Sea Sprat/00023.png  Black Sea Sprat\n",
      "1           fish_data/Test/Black Sea Sprat/00005.png  Black Sea Sprat\n",
      "2           fish_data/Test/Black Sea Sprat/00003.png  Black Sea Sprat\n",
      "3           fish_data/Test/Black Sea Sprat/00009.png  Black Sea Sprat\n",
      "4  fish_data/Test/Black Sea Sprat/.ipynb_checkpoints  Black Sea Sprat\n"
     ]
    },
    {
     "data": {
      "text/plain": [
       "(438, 2)"
      ]
     },
     "execution_count": 30,
     "metadata": {},
     "output_type": "execute_result"
    }
   ],
   "source": [
    "print(test_df.head())\n",
    "test_df.shape"
   ]
  },
  {
   "cell_type": "code",
   "execution_count": 31,
   "metadata": {},
   "outputs": [
    {
     "name": "stdout",
     "output_type": "stream",
     "text": [
      "                                        Filepath            Label\n",
      "0  fish_data/Train_Val/Black Sea Sprat/00124.png  Black Sea Sprat\n",
      "1  fish_data/Train_Val/Black Sea Sprat/00960.png  Black Sea Sprat\n",
      "2  fish_data/Train_Val/Black Sea Sprat/00612.png  Black Sea Sprat\n",
      "3  fish_data/Train_Val/Black Sea Sprat/00365.png  Black Sea Sprat\n",
      "4  fish_data/Train_Val/Black Sea Sprat/00681.png  Black Sea Sprat\n"
     ]
    },
    {
     "data": {
      "text/plain": [
       "(9009, 2)"
      ]
     },
     "execution_count": 31,
     "metadata": {},
     "output_type": "execute_result"
    }
   ],
   "source": [
    "print(dev_df.head())\n",
    "dev_df.shape"
   ]
  },
  {
   "cell_type": "code",
   "execution_count": 32,
   "metadata": {},
   "outputs": [
    {
     "name": "stdout",
     "output_type": "stream",
     "text": [
      "                                        Filepath            Label\n",
      "0  fish_data/Train_Val/Black Sea Sprat/00124.png  Black Sea Sprat\n",
      "1  fish_data/Train_Val/Black Sea Sprat/00960.png  Black Sea Sprat\n",
      "2  fish_data/Train_Val/Black Sea Sprat/00612.png  Black Sea Sprat\n",
      "3  fish_data/Train_Val/Black Sea Sprat/00365.png  Black Sea Sprat\n",
      "4  fish_data/Train_Val/Black Sea Sprat/00681.png  Black Sea Sprat\n",
      "(9447, 2)\n"
     ]
    }
   ],
   "source": [
    "print(total_df.head())\n",
    "print(total_df.shape)"
   ]
  },
  {
   "cell_type": "code",
   "execution_count": 33,
   "metadata": {},
   "outputs": [],
   "source": [
    "dev_df, test_df = train_test_split(total_df, test_size=0.1, train_size=0.9, shuffle=True, random_state=42)\n",
    "train_df, val_df = train_test_split(dev_df, test_size=0.2, train_size=0.8, shuffle=True, random_state=42)"
   ]
  },
  {
   "cell_type": "code",
   "execution_count": 34,
   "metadata": {
    "id": "0HFteFhy9SoO"
   },
   "outputs": [],
   "source": [
    "dev_generator = tf.keras.preprocessing.image.ImageDataGenerator(\n",
    "    rescale=1./255 # Could apply additional augmentation here\n",
    ")\n",
    "\n",
    "test_generator = tf.keras.preprocessing.image.ImageDataGenerator(                                                    \n",
    "    rescale=1./255 # Apply same normalization, not performing other preprocessing steps\n",
    ")"
   ]
  },
  {
   "cell_type": "code",
   "execution_count": 35,
   "metadata": {
    "colab": {
     "base_uri": "https://localhost:8080/",
     "height": 235
    },
    "id": "YCJxA9xS-94l",
    "outputId": "5aa0cea5-32f3-46c3-9310-cb737a003196"
   },
   "outputs": [
    {
     "name": "stdout",
     "output_type": "stream",
     "text": [
      "Found 6790 validated image filenames belonging to 9 classes.\n",
      "Found 1699 validated image filenames belonging to 9 classes.\n",
      "Found 941 validated image filenames belonging to 9 classes.\n"
     ]
    },
    {
     "name": "stderr",
     "output_type": "stream",
     "text": [
      "/root/yes/envs/tensorflow/lib/python3.9/site-packages/keras_preprocessing/image/dataframe_iterator.py:279: UserWarning: Found 11 invalid image filename(s) in x_col=\"Filepath\". These filename(s) will be ignored.\n",
      "  warnings.warn(\n",
      "/root/yes/envs/tensorflow/lib/python3.9/site-packages/keras_preprocessing/image/dataframe_iterator.py:279: UserWarning: Found 2 invalid image filename(s) in x_col=\"Filepath\". These filename(s) will be ignored.\n",
      "  warnings.warn(\n",
      "/root/yes/envs/tensorflow/lib/python3.9/site-packages/keras_preprocessing/image/dataframe_iterator.py:279: UserWarning: Found 4 invalid image filename(s) in x_col=\"Filepath\". These filename(s) will be ignored.\n",
      "  warnings.warn(\n"
     ]
    }
   ],
   "source": [
    "# BATCH SIZE WAS ORIGINALLY 32\n",
    "train_images = dev_generator.flow_from_dataframe(\n",
    "    dataframe = train_df,\n",
    "    x_col='Filepath',\n",
    "    y_col='Label',\n",
    "    target_size=(224, 224),\n",
    "    color_mode='rgb',\n",
    "    class_mode='categorical',\n",
    "    batch_size=32,\n",
    "    shuffle=True,\n",
    "    seed=42\n",
    ")\n",
    "\n",
    "val_images = dev_generator.flow_from_dataframe(\n",
    "    dataframe = val_df,\n",
    "    x_col='Filepath',\n",
    "    y_col='Label',\n",
    "    target_size=(224, 224),\n",
    "    color_mode='rgb',\n",
    "    class_mode='categorical',\n",
    "    batch_size=32,\n",
    "    shuffle=True,\n",
    "    seed=42\n",
    ")\n",
    "\n",
    "test_images = test_generator.flow_from_dataframe(\n",
    "    dataframe = test_df,\n",
    "    x_col='Filepath',\n",
    "    y_col='Label',\n",
    "    target_size=(224, 224),\n",
    "    color_mode='rgb',\n",
    "    class_mode='categorical',\n",
    "    batch_size=32,\n",
    "    shuffle=True,\n",
    "    seed=42\n",
    ")"
   ]
  },
  {
   "cell_type": "code",
   "execution_count": 36,
   "metadata": {
    "colab": {
     "base_uri": "https://localhost:8080/"
    },
    "id": "0gM0NQ-wBJit",
    "outputId": "59e36998-f2ad-4241-dbdb-c3449823efd3"
   },
   "outputs": [
    {
     "name": "stdout",
     "output_type": "stream",
     "text": [
      "Training image shape: (224, 224, 3)\n",
      "Validation image shape: (224, 224, 3)\n",
      "Test image shape: (224, 224, 3)\n"
     ]
    }
   ],
   "source": [
    "print(\"Training image shape:\", train_images.image_shape)\n",
    "print(\"Validation image shape:\", val_images.image_shape)\n",
    "print(\"Test image shape:\", test_images.image_shape)"
   ]
  },
  {
   "cell_type": "code",
   "execution_count": 37,
   "metadata": {
    "colab": {
     "base_uri": "https://localhost:8080/"
    },
    "id": "HpBab0rRIkjx",
    "outputId": "d83e7d17-01df-4b71-b7eb-657a4630f026"
   },
   "outputs": [
    {
     "data": {
      "text/plain": [
       "{'Black Sea Sprat': 0,\n",
       " 'Gilt Head Bream': 1,\n",
       " 'Horse Mackerel': 2,\n",
       " 'Red Mullet': 3,\n",
       " 'Red Sea Bream': 4,\n",
       " 'Sea Bass': 5,\n",
       " 'Shrimp': 6,\n",
       " 'Striped Red Mullet': 7,\n",
       " 'Trout': 8}"
      ]
     },
     "execution_count": 37,
     "metadata": {},
     "output_type": "execute_result"
    }
   ],
   "source": [
    "train_images.class_indices"
   ]
  },
  {
   "cell_type": "code",
   "execution_count": 38,
   "metadata": {
    "colab": {
     "base_uri": "https://localhost:8080/"
    },
    "id": "zpssP4gHIrLE",
    "outputId": "1bc788b9-dcea-4e00-b67f-19eb3a0c5bca"
   },
   "outputs": [
    {
     "data": {
      "text/plain": [
       "{'Black Sea Sprat': 0,\n",
       " 'Gilt Head Bream': 1,\n",
       " 'Horse Mackerel': 2,\n",
       " 'Red Mullet': 3,\n",
       " 'Red Sea Bream': 4,\n",
       " 'Sea Bass': 5,\n",
       " 'Shrimp': 6,\n",
       " 'Striped Red Mullet': 7,\n",
       " 'Trout': 8}"
      ]
     },
     "execution_count": 38,
     "metadata": {},
     "output_type": "execute_result"
    }
   ],
   "source": [
    "val_images.class_indices"
   ]
  },
  {
   "cell_type": "code",
   "execution_count": 39,
   "metadata": {
    "colab": {
     "base_uri": "https://localhost:8080/"
    },
    "id": "WvNpGFsaNiRS",
    "outputId": "d75e9cf6-0dcb-4c33-9dfc-757692f120e6"
   },
   "outputs": [
    {
     "data": {
      "text/plain": [
       "{'Black Sea Sprat': 0,\n",
       " 'Gilt Head Bream': 1,\n",
       " 'Horse Mackerel': 2,\n",
       " 'Red Mullet': 3,\n",
       " 'Red Sea Bream': 4,\n",
       " 'Sea Bass': 5,\n",
       " 'Shrimp': 6,\n",
       " 'Striped Red Mullet': 7,\n",
       " 'Trout': 8}"
      ]
     },
     "execution_count": 39,
     "metadata": {},
     "output_type": "execute_result"
    }
   ],
   "source": [
    "test_images.class_indices"
   ]
  },
  {
   "cell_type": "code",
   "execution_count": 40,
   "metadata": {
    "id": "RKpgdmcbw7ZS"
   },
   "outputs": [],
   "source": [
    "import tensorflow.keras\n",
    "from tensorflow.keras.models import Model\n",
    "from tensorflow.keras.layers import Dense, Conv2D, MaxPool2D, Flatten, Dropout, Input, BatchNormalization\n",
    "from tensorflow.keras.callbacks import ModelCheckpoint, EarlyStopping, ReduceLROnPlateau"
   ]
  },
  {
   "cell_type": "markdown",
   "metadata": {
    "id": "Y8tJFnmZxE_Q"
   },
   "source": [
    "2. Defining VGG16 (CNN) Architecture"
   ]
  },
  {
   "cell_type": "code",
   "execution_count": 51,
   "metadata": {
    "colab": {
     "base_uri": "https://localhost:8080/"
    },
    "id": "pB_UJG23NlUj",
    "outputId": "973be7af-8041-4b27-a8e0-8862d2252ca3"
   },
   "outputs": [
    {
     "name": "stdout",
     "output_type": "stream",
     "text": [
      "Model: \"model_1\"\n",
      "_________________________________________________________________\n",
      "Layer (type)                 Output Shape              Param #   \n",
      "=================================================================\n",
      "input_2 (InputLayer)         [(None, 224, 224, 3)]     0         \n",
      "_________________________________________________________________\n",
      "conv2d_2 (Conv2D)            (None, 222, 222, 128)     3584      \n",
      "_________________________________________________________________\n",
      "max_pooling2d_2 (MaxPooling2 (None, 111, 111, 128)     0         \n",
      "_________________________________________________________________\n",
      "dropout_1 (Dropout)          (None, 111, 111, 128)     0         \n",
      "_________________________________________________________________\n",
      "conv2d_3 (Conv2D)            (None, 109, 109, 64)      73792     \n",
      "_________________________________________________________________\n",
      "max_pooling2d_3 (MaxPooling2 (None, 54, 54, 64)        0         \n",
      "_________________________________________________________________\n",
      "flatten_1 (Flatten)          (None, 186624)            0         \n",
      "_________________________________________________________________\n",
      "dense_3 (Dense)              (None, 256)               47776000  \n",
      "_________________________________________________________________\n",
      "dense_4 (Dense)              (None, 256)               65792     \n",
      "_________________________________________________________________\n",
      "dense_5 (Dense)              (None, 9)                 2313      \n",
      "=================================================================\n",
      "Total params: 47,921,481\n",
      "Trainable params: 47,921,481\n",
      "Non-trainable params: 0\n",
      "_________________________________________________________________\n"
     ]
    }
   ],
   "source": [
    "# model = tf.keras.models.Sequential([\n",
    "    \n",
    "#     tf.keras.layers.Conv2D(32, (3,3), activation='relu',  input_shape=(224,224,3), kernel_regularizer=tf.keras.regularizers.l2(l2=0.001)),\n",
    "#     tf.keras.layers.MaxPool2D(pool_size = (2,2)),\n",
    "#     tf.keras.layers.Conv2D(32, (3,3), activation='relu', kernel_regularizer=tf.keras.regularizers.l2(l2=0.01)),\n",
    "#     tf.keras.layers.MaxPool2D(pool_size = (2,2)),\n",
    "#     tf.keras.layers.Dropout(0.2),\n",
    "    \n",
    "#     tf.keras.layers.Conv2D(64, (3,3), activation='relu', kernel_regularizer=tf.keras.regularizers.l2(l2=0.001)),\n",
    "#     tf.keras.layers.MaxPool2D(pool_size = (2,2)),\n",
    "#     tf.keras.layers.Conv2D(64, (3,3), activation='relu', kernel_regularizer=tf.keras.regularizers.l2(l2=0.01)),\n",
    "#     tf.keras.layers.MaxPool2D(pool_size = (2,2)),\n",
    "#     tf.keras.layers.Dropout(0.2),\n",
    "    \n",
    "#     tf.keras.layers.Flatten(),\n",
    "#     tf.keras.layers.Dense(256, activation='relu'),\n",
    "#     tf.keras.layers.Dropout(0.35),\n",
    "#     tf.keras.layers.Dense(128, activation='relu'),\n",
    "#     tf.keras.layers.Dropout(0.25),\n",
    "#     tf.keras.layers.Dense(64, activation='relu'),\n",
    "#     tf.keras.layers.Dropout(0.15),\n",
    "#     tf.keras.layers.Dense(9, activation='softmax')\n",
    "# ])\n",
    "\n",
    "# optimizer = tf.keras.optimizers.Adam()\n",
    "\n",
    "# model.compile(\n",
    "#     optimizer=optimizer,\n",
    "#     loss='categorical_crossentropy',\n",
    "#     metrics=['accuracy']\n",
    "# )\n",
    "\n",
    "# model.summary()\n",
    "\n",
    "input = Input(shape =(224,224,3))\n",
    "l1 = Conv2D(filters=128, kernel_size=(3, 3), activation='relu')(input)\n",
    "l2 = MaxPool2D(2,2)(l1)\n",
    "l3 = Dropout(0.2)(l2)\n",
    "l4 = Conv2D(filters=64, kernel_size=(3,3), activation='relu', kernel_regularizer=tf.keras.regularizers.l2(l2=0.001))(l3)\n",
    "l5 = MaxPool2D(2,2)(l4)\n",
    "l6 = Flatten()(l5)\n",
    "l7 = Dense(256, activation='relu')(l6)\n",
    "l8 = Dense(256, activation='relu')(l7)\n",
    "output = Dense(9, activation='softmax')(l8)\n",
    "model = Model (inputs=input, outputs =output)\n",
    "model.compile(\n",
    "    optimizer='adam',\n",
    "    loss='categorical_crossentropy',\n",
    "    metrics=['accuracy']\n",
    ")\n",
    "\n",
    "model.summary()"
   ]
  },
  {
   "cell_type": "markdown",
   "metadata": {
    "id": "7jg-ixS3xn0e"
   },
   "source": [
    "3. Defining Schedulers and Callbacks"
   ]
  },
  {
   "cell_type": "code",
   "execution_count": 52,
   "metadata": {
    "id": "sKzgcZxvxnf1",
    "tags": []
   },
   "outputs": [],
   "source": [
    "early_stop = tf.keras.callbacks.EarlyStopping(monitor='val_loss', patience = 10) # Fine tune\n",
    "checkpoint_path = \"training_1/cp.ckpt\"\n",
    "monitor = tf.keras.callbacks.ModelCheckpoint(filepath=checkpoint_path, monitor='val_loss',\n",
    "                                             verbose=1,save_best_only=True,\n",
    "                                             save_weights_only=True,\n",
    "                                             mode='min') # Only saves the best model (so far) in terms of min validation loss\n",
    "\n",
    "def scheduler(epoch, lr):\n",
    "    if epoch%10 == 0 and epoch!= 0:\n",
    "        lr = lr/1.2\n",
    "    return lr\n",
    "\n",
    "lr_schedule = tf.keras.callbacks.LearningRateScheduler(scheduler,verbose = 0)\n",
    "lr_schedule_on_plateau = ReduceLROnPlateau(monitor='val_loss', mode='min', factor=0.1, patience=5, min_lr=0.0000001, verbose=1)\n",
    "callbacks = [early_stop, monitor, lr_schedule_on_plateau,lr_schedule]"
   ]
  },
  {
   "cell_type": "markdown",
   "metadata": {
    "id": "9QwjzSdOTT5Y"
   },
   "source": [
    "4. Training Model"
   ]
  },
  {
   "cell_type": "code",
   "execution_count": 53,
   "metadata": {
    "colab": {
     "base_uri": "https://localhost:8080/",
     "height": 380
    },
    "id": "4xH3sWvIz_k5",
    "outputId": "1004d632-3755-4602-dea2-ddbddf9afe0e"
   },
   "outputs": [
    {
     "name": "stdout",
     "output_type": "stream",
     "text": [
      "Epoch 1/50\n",
      "213/213 [==============================] - 123s 575ms/step - loss: 2.2015 - accuracy: 0.4024 - val_loss: 0.5507 - val_accuracy: 0.8264\n",
      "\n",
      "Epoch 00001: val_loss improved from inf to 0.55074, saving model to training_1/cp.ckpt\n",
      "Epoch 2/50\n",
      "213/213 [==============================] - 109s 513ms/step - loss: 0.2979 - accuracy: 0.9177 - val_loss: 0.2720 - val_accuracy: 0.9229\n",
      "\n",
      "Epoch 00002: val_loss improved from 0.55074 to 0.27203, saving model to training_1/cp.ckpt\n",
      "Epoch 3/50\n",
      "213/213 [==============================] - 108s 504ms/step - loss: 0.0942 - accuracy: 0.9851 - val_loss: 0.2470 - val_accuracy: 0.9247\n",
      "\n",
      "Epoch 00003: val_loss improved from 0.27203 to 0.24697, saving model to training_1/cp.ckpt\n",
      "Epoch 4/50\n",
      "213/213 [==============================] - 107s 503ms/step - loss: 0.0766 - accuracy: 0.9891 - val_loss: 0.2086 - val_accuracy: 0.9453\n",
      "\n",
      "Epoch 00004: val_loss improved from 0.24697 to 0.20862, saving model to training_1/cp.ckpt\n",
      "Epoch 5/50\n",
      "213/213 [==============================] - 107s 501ms/step - loss: 0.0512 - accuracy: 0.9955 - val_loss: 0.2044 - val_accuracy: 0.9500\n",
      "\n",
      "Epoch 00005: val_loss improved from 0.20862 to 0.20441, saving model to training_1/cp.ckpt\n",
      "Epoch 6/50\n",
      "213/213 [==============================] - 107s 502ms/step - loss: 0.0599 - accuracy: 0.9908 - val_loss: 0.2367 - val_accuracy: 0.9364\n",
      "\n",
      "Epoch 00006: val_loss did not improve from 0.20441\n",
      "Epoch 7/50\n",
      "213/213 [==============================] - 107s 504ms/step - loss: 0.0580 - accuracy: 0.9935 - val_loss: 0.2068 - val_accuracy: 0.9511\n",
      "\n",
      "Epoch 00007: val_loss did not improve from 0.20441\n",
      "Epoch 8/50\n",
      "213/213 [==============================] - 108s 507ms/step - loss: 0.0412 - accuracy: 0.9954 - val_loss: 0.2372 - val_accuracy: 0.9364\n",
      "\n",
      "Epoch 00008: val_loss did not improve from 0.20441\n",
      "Epoch 9/50\n",
      "213/213 [==============================] - 107s 502ms/step - loss: 0.0402 - accuracy: 0.9960 - val_loss: 0.2780 - val_accuracy: 0.9370\n",
      "\n",
      "Epoch 00009: val_loss did not improve from 0.20441\n",
      "Epoch 10/50\n",
      "111/213 [==============>...............] - ETA: 41s - loss: 0.0317 - accuracy: 0.9965\n",
      "model training terminated\n",
      "\n"
     ]
    }
   ],
   "source": [
    "try:\n",
    "    history = model.fit(\n",
    "        train_images, \n",
    "        validation_data=val_images, \n",
    "        epochs=50, # Fine tune\n",
    "        callbacks=callbacks\n",
    "    )\n",
    "except KeyboardInterrupt:\n",
    "    print(\"\\nmodel training terminated\\n\")"
   ]
  },
  {
   "cell_type": "code",
   "execution_count": null,
   "metadata": {},
   "outputs": [
    {
     "ename": "NameError",
     "evalue": "name 'history' is not defined",
     "output_type": "error",
     "traceback": [
      "\u001b[0;31m---------------------------------------------------------------------------\u001b[0m",
      "\u001b[0;31mNameError\u001b[0m                                 Traceback (most recent call last)",
      "\u001b[0;32m/tmp/ipykernel_4185/3958911168.py\u001b[0m in \u001b[0;36m<module>\u001b[0;34m\u001b[0m\n\u001b[0;32m----> 1\u001b[0;31m \u001b[0mnp\u001b[0m\u001b[0;34m.\u001b[0m\u001b[0msave\u001b[0m\u001b[0;34m(\u001b[0m\u001b[0;34m'history1.npy'\u001b[0m\u001b[0;34m,\u001b[0m \u001b[0mhistory\u001b[0m\u001b[0;34m.\u001b[0m\u001b[0mhistory\u001b[0m\u001b[0;34m)\u001b[0m\u001b[0;34m\u001b[0m\u001b[0;34m\u001b[0m\u001b[0m\n\u001b[0m",
      "\u001b[0;31mNameError\u001b[0m: name 'history' is not defined"
     ]
    }
   ],
   "source": [
    "np.save('history.npy', history.history)"
   ]
  },
  {
   "cell_type": "code",
   "execution_count": null,
   "metadata": {},
   "outputs": [],
   "source": [
    "model.save('Model')"
   ]
  },
  {
   "cell_type": "code",
   "execution_count": null,
   "metadata": {},
   "outputs": [],
   "source": [
    "print(\"\\n************************ COMPLETED TRAINING ************************\")"
   ]
  },
  {
   "cell_type": "markdown",
   "metadata": {},
   "source": [
    "5. Loading Best Model and Testing"
   ]
  },
  {
   "cell_type": "code",
   "execution_count": 54,
   "metadata": {},
   "outputs": [
    {
     "data": {
      "text/plain": [
       "<tensorflow.python.training.tracking.util.CheckpointLoadStatus at 0x7f241c6ef9d0>"
      ]
     },
     "execution_count": 54,
     "metadata": {},
     "output_type": "execute_result"
    }
   ],
   "source": [
    "model.load_weights(checkpoint_path)"
   ]
  },
  {
   "cell_type": "code",
   "execution_count": 48,
   "metadata": {},
   "outputs": [
    {
     "name": "stdout",
     "output_type": "stream",
     "text": [
      "Best training results:\n",
      " {'loss': [3.3339972496032715, 1.0260932445526123, 0.7786084413528442, 0.6668128967285156, 0.5769358277320862, 0.5501341819763184, 0.5038965940475464, 0.466381698846817, 0.45221200585365295, 0.4148716330528259, 0.38485780358314514, 0.3669179677963257, 0.3282333016395569, 0.35841265320777893, 0.35493895411491394, 0.3266587257385254, 0.2926563620567322, 0.3457963764667511, 0.20166921615600586, 0.1688028872013092, 0.15034224092960358, 0.1498643308877945, 0.14933903515338898, 0.14482682943344116, 0.14870086312294006, 0.1407342404127121, 0.139243483543396, 0.14170846343040466, 0.11717443913221359, 0.12590529024600983, 0.11756332218647003, 0.11326565593481064, 0.11039110273122787, 0.1157182827591896, 0.11841946095228195], 'accuracy': [0.34081462025642395, 0.6172069907188416, 0.7103075385093689, 0.7529786825180054, 0.7853975892066956, 0.7980049848556519, 0.8140759468078613, 0.8239124417304993, 0.8294541239738464, 0.8403990268707275, 0.856747031211853, 0.8621501922607422, 0.8793294429779053, 0.8661679029464722, 0.8675533533096313, 0.8808534145355225, 0.8887503743171692, 0.8744804859161377, 0.9296203851699829, 0.9384871125221252, 0.9449986219406128, 0.9467996954917908, 0.9481850862503052, 0.9495705366134644, 0.9470767378807068, 0.9510945081710815, 0.9509559273719788, 0.9459683895111084, 0.9574674367904663, 0.9574674367904663, 0.9603768587112427, 0.9602382779121399, 0.9606539011001587, 0.9591299295425415, 0.9574674367904663], 'val_loss': [1.4860656261444092, 0.9344058036804199, 0.8981252908706665, 1.1473981142044067, 0.8407760858535767, 0.6314172148704529, 0.6590191125869751, 0.7256890535354614, 0.7198823690414429, 0.8143620491027832, 0.6129006743431091, 0.5759850144386292, 0.566811203956604, 0.8053392767906189, 0.7678968906402588, 0.9167528748512268, 0.6324141025543213, 0.6885333061218262, 0.56922847032547, 0.5586132407188416, 0.5079962611198425, 0.5252233743667603, 0.6508088111877441, 0.5450859665870667, 0.4886617362499237, 0.49626246094703674, 0.5100352168083191, 0.49693062901496887, 0.5510231852531433, 0.5445326566696167, 0.5033535361289978, 0.49493876099586487, 0.5287933945655823, 0.5054035782814026, 0.4956514835357666], 'val_accuracy': [0.5257903337478638, 0.6699944734573364, 0.6955074667930603, 0.6106489300727844, 0.6960621476173401, 0.7487520575523376, 0.7698280811309814, 0.7459789514541626, 0.7287853360176086, 0.7226844429969788, 0.7681641578674316, 0.7909040451049805, 0.7903494238853455, 0.722129762172699, 0.7237936854362488, 0.7193566560745239, 0.7714919447898865, 0.7398779988288879, 0.7859123945236206, 0.7864670157432556, 0.819744884967804, 0.8119800090789795, 0.7764836549758911, 0.8053244352340698, 0.8080976009368896, 0.8103161454200745, 0.8153077960014343, 0.8136439323425293, 0.8080976009368896, 0.8153077960014343, 0.8225180506706238, 0.8236272931098938, 0.8225180506706238, 0.8252911567687988, 0.8175263404846191], 'lr': [0.001, 0.001, 0.001, 0.001, 0.001, 0.001, 0.001, 0.001, 0.001, 0.001, 0.00083333335, 0.00083333335, 0.00083333335, 0.00083333335, 0.00083333335, 0.00083333335, 0.00083333335, 8.333333e-05, 8.333333e-05, 8.333333e-05, 6.9444446e-05, 6.9444446e-05, 6.9444446e-05, 6.9444446e-05, 6.9444446e-05, 6.9444446e-05, 6.9444446e-05, 6.9444446e-05, 6.9444446e-05, 6.9444445e-06, 5.787037e-06, 5.787037e-06, 5.787037e-06, 5.787037e-06, 5.787037e-07]}\n"
     ]
    }
   ],
   "source": [
    "history=np.load('history.npy', allow_pickle='TRUE').item()\n",
    "print(\"Best training results:\\n\", history)"
   ]
  },
  {
   "cell_type": "code",
   "execution_count": 49,
   "metadata": {},
   "outputs": [
    {
     "data": {
      "text/plain": [
       "[0.5257903337478638,\n",
       " 0.6699944734573364,\n",
       " 0.6955074667930603,\n",
       " 0.6106489300727844,\n",
       " 0.6960621476173401,\n",
       " 0.7487520575523376,\n",
       " 0.7698280811309814,\n",
       " 0.7459789514541626,\n",
       " 0.7287853360176086,\n",
       " 0.7226844429969788,\n",
       " 0.7681641578674316,\n",
       " 0.7909040451049805,\n",
       " 0.7903494238853455,\n",
       " 0.722129762172699,\n",
       " 0.7237936854362488,\n",
       " 0.7193566560745239,\n",
       " 0.7714919447898865,\n",
       " 0.7398779988288879,\n",
       " 0.7859123945236206,\n",
       " 0.7864670157432556,\n",
       " 0.819744884967804,\n",
       " 0.8119800090789795,\n",
       " 0.7764836549758911,\n",
       " 0.8053244352340698,\n",
       " 0.8080976009368896,\n",
       " 0.8103161454200745,\n",
       " 0.8153077960014343,\n",
       " 0.8136439323425293,\n",
       " 0.8080976009368896,\n",
       " 0.8153077960014343,\n",
       " 0.8225180506706238,\n",
       " 0.8236272931098938,\n",
       " 0.8225180506706238,\n",
       " 0.8252911567687988,\n",
       " 0.8175263404846191]"
      ]
     },
     "execution_count": 49,
     "metadata": {},
     "output_type": "execute_result"
    }
   ],
   "source": [
    "history.get('val_accuracy')"
   ]
  },
  {
   "cell_type": "code",
   "execution_count": 55,
   "metadata": {},
   "outputs": [
    {
     "name": "stdout",
     "output_type": "stream",
     "text": [
      "30/30 [==============================] - 15s 518ms/step - loss: 0.1741 - accuracy: 0.9490\n",
      "Categorical Cross Entropy: 0.17414\n",
      "Test Accuracy: 94.90%\n"
     ]
    }
   ],
   "source": [
    "results = model.evaluate(test_images, verbose=1)\n",
    "\n",
    "print(\"Categorical Cross Entropy: {:.5f}\".format(results[0]))\n",
    "print(\"Test Accuracy: {:.2f}%\".format(results[1] * 100))"
   ]
  },
  {
   "cell_type": "code",
   "execution_count": null,
   "metadata": {},
   "outputs": [],
   "source": [
    "print(\"\\n************************ COMPLETED TESTING ************************\")"
   ]
  }
 ],
 "metadata": {
  "accelerator": "GPU",
  "colab": {
   "collapsed_sections": [],
   "name": "FishClassification.ipynb",
   "provenance": []
  },
  "kernelspec": {
   "display_name": "Python [conda env:tensorflow]",
   "language": "python",
   "name": "conda-env-tensorflow-py"
  },
  "language_info": {
   "codemirror_mode": {
    "name": "ipython",
    "version": 3
   },
   "file_extension": ".py",
   "mimetype": "text/x-python",
   "name": "python",
   "nbconvert_exporter": "python",
   "pygments_lexer": "ipython3",
   "version": "3.9.7"
  }
 },
 "nbformat": 4,
 "nbformat_minor": 4
}
